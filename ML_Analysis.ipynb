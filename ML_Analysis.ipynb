{
 "cells": [
  {
   "cell_type": "markdown",
   "id": "e7a68116",
   "metadata": {},
   "source": [
    "### **ML Analaysis**"
   ]
  },
  {
   "cell_type": "markdown",
   "id": "624c6fec",
   "metadata": {},
   "source": [
    "## Baseline (AQI predicting)\n",
    "\n",
    "This linear regression model predicts tomorrow’s AQI using today’s AQI as the input. \n",
    "\n",
    "We shifted the AQI column forward by one day, training the model to learn a simple relationship between current and future air quality values. The model fits a straight line to minimize the squared difference between predicted and actual next-day AQI values. We use root mean squared error and R² score are used to assess its performance.\n",
    "\n",
    "This model served as our baseline to see how well we could predict the AQI. We learned through this, and by experimenting with other models, that predicting AQI is actually pretty tough - it would probably make more sense to predict the general EPA category, which is what we do later. \n",
    "\n",
    "An RMSE of 28.6 is not a great result, since the width of an EPA category is 50 up until the higher 2 categories. \n"
   ]
  },
  {
   "cell_type": "code",
   "execution_count": null,
   "id": "9768a91d",
   "metadata": {},
   "outputs": [
    {
     "name": "stdout",
     "output_type": "stream",
     "text": [
      "Linear Regression Model:\n",
      "R2 Score: 0.3928062276324379\n",
      "RMSE: 28.670776338768757 AQI units\n"
     ]
    }
   ],
   "source": [
    "baseline_linear_reg()"
   ]
  },
  {
   "cell_type": "markdown",
   "id": "f11d5d0f",
   "metadata": {},
   "source": [
    "## RandomForest (Category predicting)\n",
    "\n",
    "Next, this is a RandomForest model that predicts the air quality category (defined by the EPA, like as \"Good,\" \"Moderate,\" or \"Unhealthy\") for the next 1 to 3 days based on the environmental and pollution-related features from our dataset. \n",
    "\n",
    "It begins by loading and preparing the dataset, converting date columns, extracts seasonal signals using sine and cosine transformations of the day of the year (this is necessary because the end of the year and start of the year should be continuous, weather is almost the same Dec 31st as on Jan 1st). It also computes rolling averages of AQI and pollutant concentrations and generates future AQI columns by shifting the data forward by 1, 2, and 3 days. The data is then split chronologically into training, validation, and test sets. The AQI values are mapped into the EPA-defined categories. A machine learning pipeline is created using a StandardScaler for feature normalization and a RandomForestClassifier for the classification. Separate models are trained for each 1, 2, and 3-day predictions. Finally, the models are evaluated on validation and test sets using exact accuracy (how often the prediction matches the true category exactly) and within-one accuracy (how often the prediction is off by at most one category).\n",
    "\n",
    "Although its not a 1-to-1 comparison between the baseline model and this one, we CAN say that the random forest model is typically within the correct EPA category, while the baseline one is often in the incorrect category. \n",
    "\n"
   ]
  },
  {
   "cell_type": "code",
   "execution_count": null,
   "id": "89526d35",
   "metadata": {},
   "outputs": [
    {
     "ename": "NameError",
     "evalue": "name 'predict_categories' is not defined",
     "output_type": "error",
     "traceback": [
      "\u001b[0;31m---------------------------------------------------------------------------\u001b[0m",
      "\u001b[0;31mNameError\u001b[0m                                 Traceback (most recent call last)",
      "Cell \u001b[0;32mIn[2], line 1\u001b[0m\n\u001b[0;32m----> 1\u001b[0m predict_categories()\n",
      "\u001b[0;31mNameError\u001b[0m: name 'predict_categories' is not defined"
     ]
    }
   ],
   "source": [
    "\n",
    "predict_categories()\n"
   ]
  }
 ],
 "metadata": {
  "kernelspec": {
   "display_name": "base",
   "language": "python",
   "name": "python3"
  },
  "language_info": {
   "codemirror_mode": {
    "name": "ipython",
    "version": 3
   },
   "file_extension": ".py",
   "mimetype": "text/x-python",
   "name": "python",
   "nbconvert_exporter": "python",
   "pygments_lexer": "ipython3",
   "version": "3.12.7"
  }
 },
 "nbformat": 4,
 "nbformat_minor": 5
}
