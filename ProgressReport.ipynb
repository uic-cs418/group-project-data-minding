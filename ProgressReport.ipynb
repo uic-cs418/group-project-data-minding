{
 "cells": [
  {
   "cell_type": "markdown",
   "metadata": {},
   "source": [
    "Project Introduction\n",
    "\n",
    "Investigating questions?\n",
    "\n",
    "Changes?\n",
    "\n"
   ]
  },
  {
   "cell_type": "code",
   "execution_count": null,
   "metadata": {},
   "outputs": [],
   "source": [
    "# All imports\n",
    "import pandas as pd\n",
    "import re\n"
   ]
  },
  {
   "cell_type": "code",
   "execution_count": null,
   "metadata": {},
   "outputs": [],
   "source": [
    "def combine_datasets_POLLUTANTS(file1, file2, file3, file4, output_file):\n",
    "    # Read all four datasets\n",
    "    df1 = pd.read_csv(file1)  # Ozone\n",
    "    df2 = pd.read_csv(file2)  # SO2\n",
    "    df3 = pd.read_csv(file3)  # CO\n",
    "    df4 = pd.read_csv(file4)  # NO2\n",
    "\n",
    "    # Filter Daily_CO dataset for Pollutant Standard = 'CO 8-hour 1971'\n",
    "    df3 = df3[df3['Pollutant Standard'] == 'CO 8-hour 1971']\n",
    "    \n",
    "    # Filter Daily_SO2 dataset for Pollutant Standard = 'SO2 1-hour 2010'\n",
    "    df2 = df2[df2['Pollutant Standard'] == 'SO2 1-hour 2010']\n",
    "\n",
    "    # Select the relevant columns and rename them for each dataset\n",
    "    df1 = df1[['State Name', 'County Name', 'Date Local', 'Local Site Name', 'Arithmetic Mean', '1st Max Value', '1st Max Hour']].rename(\n",
    "        columns={'Arithmetic Mean': 'Arithmetic Mean_ozone', '1st Max Value': '1st Max Value_ozone', '1st Max Hour': '1st Max Hour_ozone'})\n",
    "    df2 = df2[['State Name', 'County Name', 'Date Local', 'Local Site Name', 'Arithmetic Mean', '1st Max Value', '1st Max Hour']].rename(\n",
    "        columns={'Arithmetic Mean': 'Arithmetic Mean_so2', '1st Max Value': '1st Max Value_so2', '1st Max Hour': '1st Max Hour_so2'})\n",
    "    df3 = df3[['State Name', 'County Name', 'Date Local', 'Local Site Name', 'Arithmetic Mean', '1st Max Value', '1st Max Hour']].rename(\n",
    "        columns={'Arithmetic Mean': 'Arithmetic Mean_co', '1st Max Value': '1st Max Value_co', '1st Max Hour': '1st Max Hour_co'})\n",
    "    df4 = df4[['State Name', 'County Name', 'Date Local', 'Local Site Name', 'Arithmetic Mean', '1st Max Value', '1st Max Hour']].rename(\n",
    "        columns={'Arithmetic Mean': 'Arithmetic Mean_no2', '1st Max Value': '1st Max Value_no2', '1st Max Hour': '1st Max Hour_no2'})\n",
    "\n",
    "    # Merge the datasets on common columns ('State Code', 'County Code', 'Date Local', 'Local Site Name')\n",
    "    merged_df = pd.merge(df1, df2, on=['State Name', 'County Name', 'Date Local', 'Local Site Name'], how='inner')\n",
    "    merged_df = pd.merge(merged_df, df3, on=['State Name', 'County Name', 'Date Local', 'Local Site Name'], how='inner')\n",
    "    merged_df = pd.merge(merged_df, df4, on=['State Name', 'County Name', 'Date Local', 'Local Site Name'], how='inner')\n",
    "    \n",
    "    merged_df = merged_df.sort_values(by=['State Name', 'County Name', 'Date Local'], ascending=[True, True, True])\n",
    "\n",
    "    # Save the combined dataset to a CSV file\n",
    "    merged_df.to_csv(output_file, index=False)\n",
    "    print(f\"Merged dataset saved to {output_file}\")"
   ]
  },
  {
   "cell_type": "code",
   "execution_count": null,
   "metadata": {},
   "outputs": [],
   "source": [
    "#2023\n",
    "combine_datasets_POLLUTANTS(\"daily_OZONE_2023.csv\", \"daily_SO2_2023.csv\", \"daily_CO_2023.csv\", \"daily_NO2_2023.csv\", \"merged_ALL_POLLUTANTS.csv\")"
   ]
  },
  {
   "cell_type": "code",
   "execution_count": null,
   "metadata": {},
   "outputs": [],
   "source": [
    "#2024\n",
    "combine_datasets_POLLUTANTS(\"daily_44201_2024.csv\", \"daily_42401_2024.csv\", \"daily_42101_2024.csv\", \"daily_42602_2024.csv\", \"merged_ALL_POLLUTANTS_2024.csv\")"
   ]
  },
  {
   "cell_type": "code",
   "execution_count": null,
   "metadata": {},
   "outputs": [],
   "source": [
    "def combine_datasets_METEO(file1, file2, file3, file4, output_file):\n",
    "    # Read all four datasets\n",
    "    df1 = pd.read_csv(file1)  # Ozone\n",
    "    df2 = pd.read_csv(file2)  # SO2\n",
    "    df3 = pd.read_csv(file3)  # CO\n",
    "    df4 = pd.read_csv(file4)  # NO2\n",
    "    df5 = df4.copy()\n",
    "\n",
    "    # filtered_df = df[df['Ozone'] > 0.03]\n",
    "    df4 = df4[df4['Parameter Name'] == 'Wind Speed - Resultant']\n",
    "    df5 = df5[df5['Parameter Name'] == 'Wind Direction - Resultant']\n",
    "\n",
    "    # Select the relevant columns and rename them for each dataset\n",
    "    df1 = df1[['State Name', 'County Name', 'Date Local', 'Local Site Name', 'Arithmetic Mean', '1st Max Value', '1st Max Hour']].rename(\n",
    "        columns={'Arithmetic Mean': 'Arithmetic Mean_PRESS', '1st Max Value': '1st Max Value_PRESS', '1st Max Hour': '1st Max Hour_PRESS'})\n",
    "    df2 = df2[['State Name', 'County Name', 'Date Local', 'Local Site Name', 'Arithmetic Mean', '1st Max Value', '1st Max Hour']].rename(\n",
    "        columns={'Arithmetic Mean': 'Arithmetic Mean_RH_DP', '1st Max Value': '1st Max Value_RH_DP', '1st Max Hour': '1st Max Hour_RH_DP'})\n",
    "    df3 = df3[['State Name', 'County Name', 'Date Local', 'Local Site Name', 'Arithmetic Mean', '1st Max Value', '1st Max Hour']].rename(\n",
    "        columns={'Arithmetic Mean': 'Arithmetic Mean_TEMP', '1st Max Value': '1st Max Value_TEMP', '1st Max Hour': '1st Max Hour_TEMP'})\n",
    "    df4 = df4[['State Name', 'County Name', 'Date Local', 'Local Site Name', 'Arithmetic Mean', '1st Max Value', '1st Max Hour']].rename(\n",
    "        columns={'Arithmetic Mean': 'Arithmetic Mean_WIND_SPEED', '1st Max Value': '1st Max Value_WIND_SPEED', '1st Max Hour': '1st Max Hour_WIND_SPEED'})\n",
    "    df5 = df5[['State Name', 'County Name', 'Date Local', 'Local Site Name', 'Arithmetic Mean', '1st Max Value', '1st Max Hour']].rename(\n",
    "        columns={'Arithmetic Mean': 'Arithmetic Mean_WIND_DIRECTION', '1st Max Value': '1st Max Value_WIND_DIRECTION', '1st Max Hour': '1st Max Hour_WIND_DIRECTION'})\n",
    "\n",
    "    # Merge the datasets on common columns ('State Code', 'County Code', 'Date Local', 'Local Site Name')\n",
    "    merged_df = pd.merge(df1, df2, on=['State Name', 'County Name', 'Date Local', 'Local Site Name'], how='inner')\n",
    "    merged_df = pd.merge(merged_df, df3, on=['State Name', 'County Name', 'Date Local', 'Local Site Name'], how='inner')\n",
    "    merged_df = pd.merge(merged_df, df4, on=['State Name', 'County Name', 'Date Local', 'Local Site Name'], how='inner')\n",
    "    merged_df = pd.merge(merged_df, df5, on=['State Name', 'County Name', 'Date Local', 'Local Site Name'], how='inner')\n",
    "\n",
    "    merged_df = merged_df.sort_values(by=['State Name', 'County Name', 'Date Local'], ascending=[True, True, True])\n",
    "\n",
    "    # Save the combined dataset to a CSV file\n",
    "    merged_df.to_csv(output_file, index=False)\n",
    "    print(f\"Merged dataset saved to {output_file}\")"
   ]
  },
  {
   "cell_type": "code",
   "execution_count": null,
   "metadata": {},
   "outputs": [],
   "source": [
    "combine_datasets_METEO(\"daily_PRESS_2023.csv\", \"daily_RH_DP_2023.csv\", \"daily_TEMP_2023.csv\", \"daily_WIND_2023.csv\", \"merged_ALL_METEO_2023.csv\")"
   ]
  },
  {
   "cell_type": "code",
   "execution_count": null,
   "metadata": {},
   "outputs": [],
   "source": [
    "combine_datasets_METEO(\"daily_PRESS_2024.csv\", \"daily_RH_DP_2024.csv\", \"daily_TEMP_2024.csv\", \"daily_WIND_2024.csv\", \"merged_ALL_METEO_2024.csv\")"
   ]
  },
  {
   "cell_type": "code",
   "execution_count": 5,
   "metadata": {},
   "outputs": [],
   "source": [
    "def combine_datasets(file1, file2, file3, output_file):\n",
    "    # Read all four datasets\n",
    "    df1 = pd.read_csv(file1)  # Ozone\n",
    "    df2 = pd.read_csv(file2)  # SO2\n",
    "    df3 = pd.read_csv(file3)  # CO\n",
    "\n",
    "    # Filter Daily_CO dataset for Pollutant Standard = 'CO 8-hour 1971'\n",
    "    # df3 = df3[df3['Pollutant Standard'] == 'CO 8-hour 1971']\n",
    "    \n",
    "    # Filter Daily_SO2 dataset for Pollutant Standard = 'SO2 1-hour 2010'\n",
    "    # df2 = df2[df2['Pollutant Standard'] == 'SO2 1-hour 2010']\n",
    "\n",
    "    # Select the relevant columns and rename them for each dataset\n",
    "    # df1 = df1[['State Name', 'County Name', 'Date Local', 'Local Site Name', 'Arithmetic Mean', '1st Max Value', '1st Max Hour']].rename(\n",
    "    #     columns={'Arithmetic Mean': 'Arithmetic Mean_PRESS', '1st Max Value': '1st Max Value_PRESS', '1st Max Hour': '1st Max Hour_PRESS'})\n",
    "    # df2 = df2[['State Name', 'County Name', 'Date Local', 'Local Site Name', 'Arithmetic Mean', '1st Max Value', '1st Max Hour']].rename(\n",
    "    #     columns={'Arithmetic Mean': 'Arithmetic Mean_RH_DP', '1st Max Value': '1st Max Value_RH_DP', '1st Max Hour': '1st Max Hour_RH_DP'})\n",
    "    # df3 = df3[['State Name', 'County Name', 'Date Local', 'Local Site Name', 'Arithmetic Mean', '1st Max Value', '1st Max Hour']].rename(\n",
    "    #     columns={'Arithmetic Mean': 'Arithmetic Mean_TEMP', '1st Max Value': '1st Max Value_TEMP', '1st Max Hour': '1st Max Hour_TEMP'})\n",
    "    # df4 = df4[['State Name', 'County Name', 'Date Local', 'Local Site Name', 'Arithmetic Mean', '1st Max Value', '1st Max Hour']].rename(\n",
    "    #     columns={'Arithmetic Mean': 'Arithmetic Mean_WIND', '1st Max Value': '1st Max Value_WIND', '1st Max Hour': '1st Max Hour_WIND'})\n",
    "\n",
    "    df1 = df1.drop('Local Site Name', axis=1)\n",
    "    df2 = df2.drop('Local Site Name', axis=1)\n",
    "    df3 = df3[['State Name', 'county Name', 'Date', 'AQI', 'Category']].rename(columns={'county Name': 'County Name'})\n",
    "\n",
    "    # Merge the datasets on common columns ('State Code', 'County Code', 'Date Local', 'Local Site Name')\n",
    "    merged_df = pd.merge(df1, df2, on=['State Name', 'County Name', 'Date Local'], how='inner')\n",
    "    merged_df = merged_df.rename(columns={'Date Local': 'Date'})\n",
    "    merged_df = pd.merge(merged_df, df3, on=['State Name', 'County Name', 'Date'], how='inner')\n",
    "    # merged_df = pd.merge(merged_df, df4, on=['State Name', 'County Name', 'Date Local', 'Local Site Name'], how='inner')\n",
    "    \n",
    "    merged_df = merged_df.sort_values(by=['State Name', 'County Name', 'Date'], ascending=[True, True, True])\n",
    "\n",
    "    # Save the combined dataset to a CSV file\n",
    "    merged_df.to_csv(output_file, index=False)\n",
    "    print(f\"Merged dataset saved to {output_file}\")"
   ]
  },
  {
   "cell_type": "code",
   "execution_count": null,
   "metadata": {},
   "outputs": [],
   "source": [
    "combine_datasets(\"merged_ALL_METEO_2023.csv\", \"merged_ALL_POLLUTANTS_2023.csv\", \"daily_aqi_by_county_2023.csv\", \"all_attributes_2023.csv\")"
   ]
  },
  {
   "cell_type": "code",
   "execution_count": null,
   "metadata": {},
   "outputs": [],
   "source": [
    "combine_datasets(\"merged_ALL_METEO_2024.csv\", \"merged_ALL_POLLUTANTS_2024.csv\", \"daily_aqi_by_county_2024.csv\", \"all_attributes_2024.csv\")"
   ]
  },
  {
   "cell_type": "code",
   "execution_count": null,
   "metadata": {},
   "outputs": [],
   "source": [
    "df = pd.read_csv('all_attributes_2023.csv')\n",
    "\n",
    "unique_states = df['State Name'].unique()\n",
    "\n",
    "df1 = pd.read_csv('all_attributes_2024.csv') \n",
    "\n",
    "unique_states1 = df1['State Name'].unique()\n",
    "\n",
    "print(f\"Number of unique states: {unique_states}\")\n",
    "\n",
    "print(f\"Number of unique states: {unique_states1}\")\n",
    "\n",
    "count = 0\n",
    "commonState = []\n",
    "for item in unique_states1:\n",
    "    for i in unique_states:\n",
    "        if (item == i):\n",
    "            count += 1\n",
    "            commonState.append(item)\n",
    "            break\n",
    "\n",
    "print(count)\n",
    "print(len(commonState))\n",
    "print(commonState)"
   ]
  },
  {
   "cell_type": "code",
   "execution_count": null,
   "metadata": {},
   "outputs": [],
   "source": [
    "def filterRows(filename):\n",
    "    commonState = ['Arizona', 'California', 'Connecticut', 'Georgia', 'Idaho', 'Illinois', 'Indiana', 'Louisiana', 'Maryland', 'Massachusetts', 'Michigan', 'Missouri', 'Nevada', 'New Hampshire', 'New Mexico', 'North Carolina', 'North Dakota', 'Ohio', 'Pennsylvania', 'Rhode Island', 'Texas', 'Virginia', 'Washington', 'Wyoming']\n",
    "\n",
    "    match = re.search(r'_(\\d{4})', filename)\n",
    "    year = match.group(1)\n",
    "\n",
    "    df = pd.read_csv(filename) \n",
    "\n",
    "    # Filter rows where 'State Name' is in the commonState list\n",
    "    filtered_df = df[df['State Name'].isin(commonState)]\n",
    "\n",
    "    # Optional: Save to a new CSV file\n",
    "    output_filename = f'24StateAQI_{year}.csv'\n",
    "    filtered_df.to_csv(output_filename, index=False)\n",
    "\n",
    "    # Display the first few rows to verify\n",
    "    print(filtered_df.head())"
   ]
  }
 ],
 "metadata": {
  "kernelspec": {
   "display_name": "cs418env",
   "language": "python",
   "name": "python3"
  },
  "language_info": {
   "codemirror_mode": {
    "name": "ipython",
    "version": 3
   },
   "file_extension": ".py",
   "mimetype": "text/x-python",
   "name": "python",
   "nbconvert_exporter": "python",
   "pygments_lexer": "ipython3",
   "version": "3.12.8"
  }
 },
 "nbformat": 4,
 "nbformat_minor": 2
}
