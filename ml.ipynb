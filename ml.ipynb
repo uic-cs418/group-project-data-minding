{
 "cells": [
  {
   "cell_type": "code",
   "execution_count": null,
   "id": "2a870749-651a-4934-a27d-2f81e2aa3d68",
   "metadata": {},
   "outputs": [],
   "source": [
    "# Here we are using a multi-feature linear regression model to predict 2024 AQI using the 2023 figures. To evaluate\n",
    "# performance, we will run a baseline where our 2023 AQI is our 2024 AQI. The analysis will be done\n",
    "# by state."
   ]
  },
  {
   "cell_type": "code",
   "execution_count": 67,
   "id": "f83811f2-55d0-4b03-b9c4-0f8cfedc1191",
   "metadata": {},
   "outputs": [],
   "source": [
    "import pandas as pd\n",
    "import math\n",
    "from sklearn.linear_model import LinearRegression\n",
    "from sklearn.metrics import mean_squared_error, r2_score"
   ]
  },
  {
   "cell_type": "code",
   "execution_count": 68,
   "id": "3fe8ea51-4da2-4a57-b4cd-49a7de4a0ca2",
   "metadata": {},
   "outputs": [],
   "source": [
    "df_2023 = pd.read_csv(\"Data/24StateAQI_2023.csv\")\n",
    "df_2024 = pd.read_csv(\"Data/24StateAQI_2024.csv\")"
   ]
  },
  {
   "cell_type": "code",
   "execution_count": 69,
   "id": "cbc4da3c-247e-4654-a28f-0f2f51f55e9b",
   "metadata": {},
   "outputs": [],
   "source": [
    "df_2023_bystate = df_2023.groupby(\"State Name\", as_index=False)[\"AQI\"].mean().rename(columns={\"AQI\": \"AQI_2023\"})\n",
    "df_2024_bystate = df_2024.groupby(\"State Name\", as_index=False)[\"AQI\"].mean().rename(columns={\"AQI\": \"AQI_2024\"})\n",
    "# aggregate by state name, get average aqi per state, we also rename some columns to avoid duplicate column names.\n"
   ]
  },
  {
   "cell_type": "code",
   "execution_count": 70,
   "id": "dc5cca0c-4365-4205-a8a0-c98af6ea6c01",
   "metadata": {},
   "outputs": [],
   "source": [
    "df = pd.merge(df_2023_bystate, df_2024_bystate, on=\"State Name\")\n",
    "\n",
    "X = df[['AQI_2023']].values\n",
    "y = df['AQI_2024'].values "
   ]
  },
  {
   "cell_type": "code",
   "execution_count": 71,
   "id": "12742e3a-a1f3-400c-a9eb-0a51f4c5f35f",
   "metadata": {},
   "outputs": [
    {
     "name": "stdout",
     "output_type": "stream",
     "text": [
      "Baseline:\n",
      "Mean Squared Error: 66.29198501264854\n",
      "R2 Score: 0.18764956246245157\n",
      "RMSE: 8.141989008384163 AQI units\n"
     ]
    }
   ],
   "source": [
    "y_baseline = df['AQI_2023'].values\n",
    "baseline_mse = mean_squared_error(y, y_baseline)\n",
    "baseline_r2 = r2_score(y, y_baseline)\n",
    "print(\"Baseline:\")\n",
    "print(\"Mean Squared Error:\", baseline_mse)\n",
    "print(\"R2 Score:\", baseline_r2)\n",
    "print(f\"RMSE: {math.sqrt(baseline_mse)} AQI units\")"
   ]
  },
  {
   "cell_type": "code",
   "execution_count": 72,
   "id": "72f4df20-d543-40e8-8e07-5dc06edfee7e",
   "metadata": {},
   "outputs": [],
   "source": [
    "model = LinearRegression()\n",
    "model.fit(X,y)\n",
    "pred = model.predict(X)\n",
    "#simple linear regression"
   ]
  },
  {
   "cell_type": "code",
   "execution_count": 73,
   "id": "0c07f646-86f8-46af-b8cb-87650c72168e",
   "metadata": {},
   "outputs": [
    {
     "name": "stdout",
     "output_type": "stream",
     "text": [
      "Linear Regression Model:\n",
      "Mean Squared Error: 30.24885623589958\n",
      "R2 Score: 0.629326658516034\n",
      "RMSE: 5.499896020462531 AQI units\n"
     ]
    }
   ],
   "source": [
    "lr_mse = mean_squared_error(y, pred)\n",
    "lr_r2 = r2_score(y, pred)\n",
    "\n",
    "print(\"Linear Regression Model:\")\n",
    "print(\"Mean Squared Error:\", lr_mse)\n",
    "print(\"R2 Score:\", lr_r2)\n",
    "print(f\"RMSE: {math.sqrt(lr_mse)} AQI units\")"
   ]
  },
  {
   "cell_type": "code",
   "execution_count": 74,
   "id": "6a719099-eee3-4143-a5a2-460e63eb99c7",
   "metadata": {},
   "outputs": [],
   "source": [
    "# Although this is just a starting point, we can see that we can more accurately predict AQI through machine\n",
    "# learning as opposed to relying solely on historical data. Going forward, we will implement a more complex model\n",
    "# that predicts AQI using all of the features from the dataset and can draw more complex conclusions about AQI\n",
    "# and the factors that go into it. "
   ]
  }
 ],
 "metadata": {
  "kernelspec": {
   "display_name": "Python 3 (ipykernel)",
   "language": "python",
   "name": "python3"
  },
  "language_info": {
   "codemirror_mode": {
    "name": "ipython",
    "version": 3
   },
   "file_extension": ".py",
   "mimetype": "text/x-python",
   "name": "python",
   "nbconvert_exporter": "python",
   "pygments_lexer": "ipython3",
   "version": "3.12.9"
  }
 },
 "nbformat": 4,
 "nbformat_minor": 5
}
