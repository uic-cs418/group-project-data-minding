{
  "nbformat": 4,
  "nbformat_minor": 0,
  "metadata": {
    "colab": {
      "provenance": []
    },
    "kernelspec": {
      "name": "python3",
      "display_name": "Python 3"
    },
    "language_info": {
      "name": "python"
    }
  },
  "cells": [
    {
      "cell_type": "markdown",
      "source": [
        "# Data-Minding Group Progress Report"
      ],
      "metadata": {
        "id": "EE1IdEWY6ByK"
      }
    },
    {
      "cell_type": "markdown",
      "source": [
        "# Project Introduction\n",
        "\n",
        "This project explores **air pollution trends across the United States** in **urban vs. rural areas**, using 2023–2024 data. While urban pollution from traffic and industry is well-known, rural areas also face challenges from agriculture, natural sources, and shifting weather patterns.\n",
        "\n",
        "We analyze pollutant data (CO, NO₂, SO₂, O₃) alongside meteorological variables (wind, temperature, pressure) to investigate:\n",
        "- How pollution levels differ between urban and rural areas.\n",
        "- What factors (weather, traffic, industrial activity) drive regional pollution trends.\n",
        "\n",
        "---\n",
        "\n",
        "#  Scope Changes\n",
        "\n",
        "### What Stayed the Same:\n",
        "- Focus on comparing air quality between urban and rural regions.\n",
        "- Use of pollutant and weather data from 2023–2024.\n",
        "\n",
        "### What Changed:\n",
        "- **Expanded scope to the full U.S.** instead of just 24 states.\n",
        "- Plan to add **traffic and industrial activity data** for deeper analysis.\n",
        "- Will use **Census or USDA data** to classify urban vs. rural areas accurately.\n",
        "\n",
        "### Removed:\n",
        "- PM2.5 analysis (due to data gaps).\n",
        "- County-level analysis postponed in favor of cleaner state-level trends (for now).\n"
      ],
      "metadata": {
        "id": "Tj_A5UkH0J1C"
      }
    },
    {
      "cell_type": "code",
      "execution_count": 1,
      "metadata": {
        "id": "MkfFrKLu50nv"
      },
      "outputs": [],
      "source": [
        "import pandas as pd\n",
        "import numpy as np\n",
        "import matplotlib.pyplot as plt\n",
        "import seaborn as sns\n",
        "import os\n",
        "import re"
      ]
    },
    {
      "cell_type": "markdown",
      "source": [
        "# Data Cleaning"
      ],
      "metadata": {
        "id": "S7JLbXTU_OYk"
      }
    },
    {
      "cell_type": "code",
      "source": [
        "# Define file paths\n",
        "files_2024 = {\n",
        "    \"CO\": \"daily_42101_2024.csv\",\n",
        "    \"SO2\": \"daily_42401_2024.csv\",\n",
        "    \"Ozone\": \"daily_44201_2024.csv\",\n",
        "    \"NO2\": \"daily_42602_2024.csv\",\n",
        "    \"Pressure\": \"daily_PRESS_2024.csv\",\n",
        "    \"Humidity_DewPoint\": \"daily_RH_DP_2024.csv\",\n",
        "    \"Temperature\": \"daily_TEMP_2024.csv\",\n",
        "    \"Wind\": \"daily_WIND_2024.csv\"\n",
        "}\n",
        "\n",
        "# Load each dataset into individual DataFrames\n",
        "CO_2024 = pd.read_csv(files_2024[\"CO\"])\n",
        "SO2_2024 = pd.read_csv(files_2024[\"SO2\"])\n",
        "Ozone_2024 = pd.read_csv(files_2024[\"Ozone\"])\n",
        "NO2_2024 = pd.read_csv(files_2024[\"NO2\"])\n",
        "Pressure_2024 = pd.read_csv(files_2024[\"Pressure\"])\n",
        "Humidity_DewPoint_2024 = pd.read_csv(files_2024[\"Humidity_DewPoint\"])\n",
        "Temperature_2024 = pd.read_csv(files_2024[\"Temperature\"])\n",
        "Wind_2024 = pd.read_csv(files_2024[\"Wind\"])\n",
        "\n",
        "# # Example of checking the first few rows of each DataFrame\n",
        "# print(CO_2024.head())\n",
        "# print(SO2_2024.head())\n",
        "# print(Ozone_2024.head())\n",
        "# print(NO2_2024.head())\n",
        "# print(Pressure_2024.head())\n",
        "# print(Humidity_DewPoint_2024.head())\n",
        "# print(Temperature_2024.head())\n",
        "# print(Wind_2024.head())\n",
        "\n"
      ],
      "metadata": {
        "colab": {
          "base_uri": "https://localhost:8080/"
        },
        "id": "tuYrR5P0-b8I",
        "outputId": "dc79cdec-5e49-42ad-9eb5-ccf98c04c685"
      },
      "execution_count": 2,
      "outputs": [
        {
          "output_type": "stream",
          "name": "stderr",
          "text": [
            "<ipython-input-2-dc114684e66c>:14: DtypeWarning: Columns (13) have mixed types. Specify dtype option on import or set low_memory=False.\n",
            "  CO_2024 = pd.read_csv(files_2024[\"CO\"])\n",
            "<ipython-input-2-dc114684e66c>:15: DtypeWarning: Columns (13) have mixed types. Specify dtype option on import or set low_memory=False.\n",
            "  SO2_2024 = pd.read_csv(files_2024[\"SO2\"])\n",
            "<ipython-input-2-dc114684e66c>:16: DtypeWarning: Columns (13) have mixed types. Specify dtype option on import or set low_memory=False.\n",
            "  Ozone_2024 = pd.read_csv(files_2024[\"Ozone\"])\n"
          ]
        }
      ]
    },
    {
      "cell_type": "code",
      "source": [
        "# Define file paths\n",
        "files_2023 = {\n",
        "    \"CO\": \"daily_42101_2023.csv\",\n",
        "    \"SO2\": \"daily_42401_2023.csv\",\n",
        "    \"Ozone\": \"daily_44201_2023.csv\",\n",
        "    \"NO2\": \"daily_42602_2023.csv\",\n",
        "    \"Pressure\": \"daily_PRESS_2023.csv\",\n",
        "    \"Humidity_DewPoint\": \"daily_RH_DP_2023.csv\",\n",
        "    \"Temperature\": \"daily_TEMP_2023.csv\",\n",
        "    \"Wind\": \"daily_WIND_2023.csv\"\n",
        "}\n",
        "\n",
        "# Load each dataset into individual DataFrames\n",
        "CO_2023 = pd.read_csv(files_2023[\"CO\"])\n",
        "SO2_2023 = pd.read_csv(files_2023[\"SO2\"])\n",
        "Ozone_2023 = pd.read_csv(files_2023[\"Ozone\"])\n",
        "NO2_2023 = pd.read_csv(files_2023[\"NO2\"])\n",
        "Pressure_2023 = pd.read_csv(files_2023[\"Pressure\"])\n",
        "Humidity_DewPoint_2023 = pd.read_csv(files_2023[\"Humidity_DewPoint\"])\n",
        "Temperature_2023 = pd.read_csv(files_2023[\"Temperature\"])\n",
        "Wind_2023 = pd.read_csv(files_2023[\"Wind\"])\n",
        "\n",
        "# # Example of checking the first few rows of each DataFrame\n",
        "# print(CO_2023.head())\n",
        "# print(SO2_2023.head())\n",
        "# print(Ozone_2023.head())\n",
        "# print(NO2_2023.head())\n",
        "# print(Pressure_2023.head())\n",
        "# print(Humidity_DewPoint_2023.head())\n",
        "# print(Temperature_2023.head())\n",
        "# print(Wind_2023.head())\n",
        "\n"
      ],
      "metadata": {
        "colab": {
          "base_uri": "https://localhost:8080/"
        },
        "id": "TNLr4eI5tBQS",
        "outputId": "69077b40-9956-45c0-d549-9e05250d1fb9"
      },
      "execution_count": 3,
      "outputs": [
        {
          "output_type": "stream",
          "name": "stderr",
          "text": [
            "<ipython-input-3-526aa08623f8>:14: DtypeWarning: Columns (13) have mixed types. Specify dtype option on import or set low_memory=False.\n",
            "  CO_2023 = pd.read_csv(files_2023[\"CO\"])\n",
            "<ipython-input-3-526aa08623f8>:15: DtypeWarning: Columns (13) have mixed types. Specify dtype option on import or set low_memory=False.\n",
            "  SO2_2023 = pd.read_csv(files_2023[\"SO2\"])\n",
            "<ipython-input-3-526aa08623f8>:16: DtypeWarning: Columns (13) have mixed types. Specify dtype option on import or set low_memory=False.\n",
            "  Ozone_2023 = pd.read_csv(files_2023[\"Ozone\"])\n",
            "<ipython-input-3-526aa08623f8>:17: DtypeWarning: Columns (13) have mixed types. Specify dtype option on import or set low_memory=False.\n",
            "  NO2_2023 = pd.read_csv(files_2023[\"NO2\"])\n"
          ]
        }
      ]
    },
    {
      "cell_type": "markdown",
      "source": [
        "## Common Characteristics\n",
        "### Feature\tValue\n",
        "* Granularity: Daily-level per location (CBSA/County/Site)\n",
        "* Temporality:\tAll datasets cover January–December 2023-2024. Some sites may have missing days or gaps, handled via imputation or aggregation.\n",
        "* Scope:\n",
        "  * Datasets span all of 2023 and 2024.\n",
        "  * Covers multiple pollutants (CO, SO2, Ozone, NO2) and weather variables (Temperature, Wind, etc.).\n",
        "  * Geographic scope is national (USA)\n",
        "* Faithfulness:\tMost datasets are complete (minimal to no missing values)\n"
      ],
      "metadata": {
        "id": "kLSZJcf8_xiE"
      }
    },
    {
      "cell_type": "code",
      "source": [
        "def clean_pollutant_dataset(df, pollutant_standard=None):\n",
        "    # Optional filter for pollutant standard (e.g., CO 8-hour 1971)\n",
        "    if pollutant_standard and 'Pollutant Standard' in df.columns:\n",
        "        df = df[df['Pollutant Standard'] == pollutant_standard]\n",
        "\n",
        "    # Convert 'Date Local' to datetime and drop rows with invalid dates\n",
        "    if 'Date Local' in df.columns:\n",
        "        df['Date Local'] = pd.to_datetime(df['Date Local'], errors='coerce')\n",
        "        df = df.dropna(subset=['Date Local'])\n",
        "\n",
        "    # Drop duplicate rows\n",
        "    df = df.drop_duplicates()\n",
        "\n",
        "    return df\n",
        "\n",
        "def combine_datasets_POLLUTANTS(file1, file2, file3, file4, output_file):\n",
        "    # Load and clean each dataset\n",
        "    df1 = clean_pollutant_dataset(pd.read_csv(file1))  # Ozone\n",
        "    df2 = clean_pollutant_dataset(pd.read_csv(file2), pollutant_standard='SO2 1-hour 2010')\n",
        "    df3 = clean_pollutant_dataset(pd.read_csv(file3), pollutant_standard='CO 8-hour 1971')\n",
        "    df4 = clean_pollutant_dataset(pd.read_csv(file4))  # NO2\n",
        "\n",
        "    # Select relevant columns and rename for clarity\n",
        "    df1 = df1[['State Name', 'County Name', 'Date Local', 'Local Site Name',\n",
        "               'Arithmetic Mean', '1st Max Value', '1st Max Hour']].rename(\n",
        "        columns={\n",
        "            'Arithmetic Mean': 'Arithmetic Mean_ozone',\n",
        "            '1st Max Value': '1st Max Value_ozone',\n",
        "            '1st Max Hour': '1st Max Hour_ozone'\n",
        "        })\n",
        "\n",
        "    df2 = df2[['State Name', 'County Name', 'Date Local', 'Local Site Name',\n",
        "               'Arithmetic Mean', '1st Max Value', '1st Max Hour']].rename(\n",
        "        columns={\n",
        "            'Arithmetic Mean': 'Arithmetic Mean_so2',\n",
        "            '1st Max Value': '1st Max Value_so2',\n",
        "            '1st Max Hour': '1st Max Hour_so2'\n",
        "        })\n",
        "\n",
        "    df3 = df3[['State Name', 'County Name', 'Date Local', 'Local Site Name',\n",
        "               'Arithmetic Mean', '1st Max Value', '1st Max Hour']].rename(\n",
        "        columns={\n",
        "            'Arithmetic Mean': 'Arithmetic Mean_co',\n",
        "            '1st Max Value': '1st Max Value_co',\n",
        "            '1st Max Hour': '1st Max Hour_co'\n",
        "        })\n",
        "\n",
        "    df4 = df4[['State Name', 'County Name', 'Date Local', 'Local Site Name',\n",
        "               'Arithmetic Mean', '1st Max Value', '1st Max Hour']].rename(\n",
        "        columns={\n",
        "            'Arithmetic Mean': 'Arithmetic Mean_no2',\n",
        "            '1st Max Value': '1st Max Value_no2',\n",
        "            '1st Max Hour': '1st Max Hour_no2'\n",
        "        })\n",
        "\n",
        "    # Merge datasets on common keys\n",
        "    merged_df = pd.merge(df1, df2, on=['State Name', 'County Name', 'Date Local', 'Local Site Name'], how='inner')\n",
        "    merged_df = pd.merge(merged_df, df3, on=['State Name', 'County Name', 'Date Local', 'Local Site Name'], how='inner')\n",
        "    merged_df = pd.merge(merged_df, df4, on=['State Name', 'County Name', 'Date Local', 'Local Site Name'], how='inner')\n",
        "\n",
        "    # Sort by location and date\n",
        "    merged_df = merged_df.sort_values(by=['State Name', 'County Name', 'Date Local'])\n",
        "\n",
        "    # Save to CSV\n",
        "    merged_df.to_csv(output_file, index=False)\n",
        "    print(f\"Merged pollutant dataset saved to: {output_file}\")\n"
      ],
      "metadata": {
        "id": "XPBOX9JavgTX"
      },
      "execution_count": 5,
      "outputs": []
    },
    {
      "cell_type": "code",
      "source": [
        "combine_datasets_POLLUTANTS(\n",
        "    \"daily_44201_2023.csv\",  # Ozone\n",
        "    \"daily_42401_2023.csv\",  # SO2\n",
        "    \"daily_42101_2023.csv\",  # CO\n",
        "    \"daily_42602_2023.csv\",  # NO2\n",
        "    \"merged_ALL_POLLUTANTS_2023.csv\"\n",
        ")"
      ],
      "metadata": {
        "colab": {
          "base_uri": "https://localhost:8080/"
        },
        "id": "vbBQEZMgwg4K",
        "outputId": "9400f903-f661-42cd-c924-2dcf6f0005a5"
      },
      "execution_count": 6,
      "outputs": [
        {
          "output_type": "stream",
          "name": "stderr",
          "text": [
            "<ipython-input-5-a8cffab4def2>:18: DtypeWarning: Columns (13) have mixed types. Specify dtype option on import or set low_memory=False.\n",
            "  df1 = clean_pollutant_dataset(pd.read_csv(file1))  # Ozone\n",
            "<ipython-input-5-a8cffab4def2>:19: DtypeWarning: Columns (13) have mixed types. Specify dtype option on import or set low_memory=False.\n",
            "  df2 = clean_pollutant_dataset(pd.read_csv(file2), pollutant_standard='SO2 1-hour 2010')\n",
            "<ipython-input-5-a8cffab4def2>:20: DtypeWarning: Columns (13) have mixed types. Specify dtype option on import or set low_memory=False.\n",
            "  df3 = clean_pollutant_dataset(pd.read_csv(file3), pollutant_standard='CO 8-hour 1971')\n",
            "<ipython-input-5-a8cffab4def2>:21: DtypeWarning: Columns (13) have mixed types. Specify dtype option on import or set low_memory=False.\n",
            "  df4 = clean_pollutant_dataset(pd.read_csv(file4))  # NO2\n"
          ]
        },
        {
          "output_type": "stream",
          "name": "stdout",
          "text": [
            "Merged pollutant dataset saved to: merged_ALL_POLLUTANTS_2023.csv\n"
          ]
        }
      ]
    },
    {
      "cell_type": "code",
      "source": [
        "combine_datasets_POLLUTANTS(\n",
        "    \"daily_44201_2024.csv\",  # Ozone\n",
        "    \"daily_42401_2024.csv\",  # SO2\n",
        "    \"daily_42101_2024.csv\",  # CO\n",
        "    \"daily_42602_2024.csv\",  # NO2\n",
        "    \"merged_ALL_POLLUTANTS_2024.csv\"\n",
        ")"
      ],
      "metadata": {
        "colab": {
          "base_uri": "https://localhost:8080/"
        },
        "id": "YhdxNZkAwjM7",
        "outputId": "22b520ed-7aa7-42e9-845b-2240cd127492"
      },
      "execution_count": 7,
      "outputs": [
        {
          "output_type": "stream",
          "name": "stderr",
          "text": [
            "<ipython-input-5-a8cffab4def2>:18: DtypeWarning: Columns (13) have mixed types. Specify dtype option on import or set low_memory=False.\n",
            "  df1 = clean_pollutant_dataset(pd.read_csv(file1))  # Ozone\n",
            "<ipython-input-5-a8cffab4def2>:19: DtypeWarning: Columns (13) have mixed types. Specify dtype option on import or set low_memory=False.\n",
            "  df2 = clean_pollutant_dataset(pd.read_csv(file2), pollutant_standard='SO2 1-hour 2010')\n",
            "<ipython-input-5-a8cffab4def2>:20: DtypeWarning: Columns (13) have mixed types. Specify dtype option on import or set low_memory=False.\n",
            "  df3 = clean_pollutant_dataset(pd.read_csv(file3), pollutant_standard='CO 8-hour 1971')\n"
          ]
        },
        {
          "output_type": "stream",
          "name": "stdout",
          "text": [
            "Merged pollutant dataset saved to: merged_ALL_POLLUTANTS_2024.csv\n"
          ]
        }
      ]
    },
    {
      "cell_type": "code",
      "source": [
        "def combine_datasets_METEO(file1, file2, file3, file4, output_file):\n",
        "    # Read all four datasets\n",
        "    df1 = pd.read_csv(file1)  #\n",
        "    df2 = pd.read_csv(file2)  # SO2\n",
        "    df3 = pd.read_csv(file3)  # CO\n",
        "    df4 = pd.read_csv(file4)  # NO2\n",
        "    df5 = df4.copy()\n",
        "\n",
        "    # filtered_df = df[df['Ozone'] > 0.03]\n",
        "    df4 = df4[df4['Parameter Name'] == 'Wind Speed - Resultant']\n",
        "    df5 = df5[df5['Parameter Name'] == 'Wind Direction - Resultant']\n",
        "\n",
        "    # Select the relevant columns and rename them for each dataset\n",
        "    df1 = df1[['State Name', 'County Name', 'Date Local', 'Local Site Name', 'Arithmetic Mean', '1st Max Value', '1st Max Hour']].rename(\n",
        "        columns={'Arithmetic Mean': 'Arithmetic Mean_PRESS', '1st Max Value': '1st Max Value_PRESS', '1st Max Hour': '1st Max Hour_PRESS'})\n",
        "    df2 = df2[['State Name', 'County Name', 'Date Local', 'Local Site Name', 'Arithmetic Mean', '1st Max Value', '1st Max Hour']].rename(\n",
        "        columns={'Arithmetic Mean': 'Arithmetic Mean_RH_DP', '1st Max Value': '1st Max Value_RH_DP', '1st Max Hour': '1st Max Hour_RH_DP'})\n",
        "    df3 = df3[['State Name', 'County Name', 'Date Local', 'Local Site Name', 'Arithmetic Mean', '1st Max Value', '1st Max Hour']].rename(\n",
        "        columns={'Arithmetic Mean': 'Arithmetic Mean_TEMP', '1st Max Value': '1st Max Value_TEMP', '1st Max Hour': '1st Max Hour_TEMP'})\n",
        "    df4 = df4[['State Name', 'County Name', 'Date Local', 'Local Site Name', 'Arithmetic Mean', '1st Max Value', '1st Max Hour']].rename(\n",
        "        columns={'Arithmetic Mean': 'Arithmetic Mean_WIND_SPEED', '1st Max Value': '1st Max Value_WIND_SPEED', '1st Max Hour': '1st Max Hour_WIND_SPEED'})\n",
        "    df5 = df5[['State Name', 'County Name', 'Date Local', 'Local Site Name', 'Arithmetic Mean', '1st Max Value', '1st Max Hour']].rename(\n",
        "        columns={'Arithmetic Mean': 'Arithmetic Mean_WIND_DIRECTION', '1st Max Value': '1st Max Value_WIND_DIRECTION', '1st Max Hour': '1st Max Hour_WIND_DIRECTION'})\n",
        "\n",
        "    # Merge the datasets on common columns ('State Code', 'County Code', 'Date Local', 'Local Site Name')\n",
        "    merged_df = pd.merge(df1, df2, on=['State Name', 'County Name', 'Date Local', 'Local Site Name'], how='inner')\n",
        "    merged_df = pd.merge(merged_df, df3, on=['State Name', 'County Name', 'Date Local', 'Local Site Name'], how='inner')\n",
        "    merged_df = pd.merge(merged_df, df4, on=['State Name', 'County Name', 'Date Local', 'Local Site Name'], how='inner')\n",
        "    merged_df = pd.merge(merged_df, df5, on=['State Name', 'County Name', 'Date Local', 'Local Site Name'], how='inner')\n",
        "\n",
        "    merged_df = merged_df.sort_values(by=['State Name', 'County Name', 'Date Local'], ascending=[True, True, True])\n",
        "\n",
        "    # Save the combined dataset to a CSV file\n",
        "    merged_df.to_csv(output_file, index=False)\n",
        "    print(f\"Merged dataset saved to {output_file}\")"
      ],
      "metadata": {
        "id": "Vw_ZVgW0yOxP"
      },
      "execution_count": 8,
      "outputs": []
    },
    {
      "cell_type": "code",
      "source": [
        "combine_datasets_METEO(\"daily_PRESS_2023.csv\", \"daily_RH_DP_2023.csv\", \"daily_TEMP_2023.csv\", \"daily_WIND_2023.csv\", \"merged_ALL_METEO_2023.csv\")"
      ],
      "metadata": {
        "colab": {
          "base_uri": "https://localhost:8080/"
        },
        "id": "tljHpthXy2M8",
        "outputId": "91d8d09f-400e-485b-b245-92b12acb4bc9"
      },
      "execution_count": 9,
      "outputs": [
        {
          "output_type": "stream",
          "name": "stdout",
          "text": [
            "Merged dataset saved to merged_ALL_METEO_2023.csv\n"
          ]
        }
      ]
    },
    {
      "cell_type": "code",
      "source": [
        "combine_datasets_METEO(\"daily_PRESS_2024.csv\", \"daily_RH_DP_2024.csv\", \"daily_TEMP_2024.csv\", \"daily_WIND_2024.csv\", \"merged_ALL_METEO_2024.csv\")"
      ],
      "metadata": {
        "colab": {
          "base_uri": "https://localhost:8080/"
        },
        "id": "SPenno4My4O6",
        "outputId": "32814e07-9557-40c8-ecff-f9efa928635a"
      },
      "execution_count": 10,
      "outputs": [
        {
          "output_type": "stream",
          "name": "stdout",
          "text": [
            "Merged dataset saved to merged_ALL_METEO_2024.csv\n"
          ]
        }
      ]
    },
    {
      "cell_type": "markdown",
      "source": [
        "## Data Cleaning Steps\n",
        "\n",
        "- Filtered pollutant standards (e.g., **CO 8-hour 1971**, **SO2 1-hour 2010**) and wind parameters (**Wind Speed - Resultant**, **Wind Direction - Resultant**) for consistency.  \n",
        "- Selected key features: **Arithmetic Mean**, **Max Value**, and **Max Hour** across all datasets.  \n",
        "- Renamed columns to reflect their source and ensure uniqueness after merging.  \n",
        "- Dropped unnecessary columns like **Local Site Name** in final merges.  \n",
        "- Handled missing values implicitly by performing **inner joins**—retaining only rows with complete data across all selected variables.\n"
      ],
      "metadata": {
        "id": "WEbTLUW3v3T2"
      }
    },
    {
      "cell_type": "code",
      "source": [
        "def combine_datasets(file1, file2, file3, output_file):\n",
        "    # Read all three datasets: pollutants, meteorology, aqi_by_county\n",
        "    df1 = pd.read_csv(file1)  # pollutants\n",
        "    df2 = pd.read_csv(file2)  # meteorology\n",
        "    df3 = pd.read_csv(file3)  # aqi\n",
        "\n",
        "    df1 = df1.drop('Local Site Name', axis=1)\n",
        "    df2 = df2.drop('Local Site Name', axis=1)\n",
        "    df3 = df3[['State Name', 'county Name', 'Date', 'AQI', 'Category']].rename(columns={'county Name': 'County Name'})\n",
        "\n",
        "    # Merge the datasets on common columns ('State Code', 'County Code', 'Date Local', 'Local Site Name')\n",
        "    merged_df = pd.merge(df1, df2, on=['State Name', 'County Name', 'Date Local'], how='inner')\n",
        "    merged_df = merged_df.rename(columns={'Date Local': 'Date'})\n",
        "    merged_df = pd.merge(merged_df, df3, on=['State Name', 'County Name', 'Date'], how='inner')\n",
        "    # merged_df = pd.merge(merged_df, df4, on=['State Name', 'County Name', 'Date Local', 'Local Site Name'], how='inner')\n",
        "\n",
        "    merged_df = merged_df.sort_values(by=['State Name', 'County Name', 'Date'], ascending=[True, True, True])\n",
        "\n",
        "    # Save the combined dataset to a CSV file\n",
        "    merged_df.to_csv(output_file, index=False)\n",
        "    print(f\"Merged dataset saved to {output_file}\")"
      ],
      "metadata": {
        "id": "l19L7Pa-v0zx"
      },
      "execution_count": 11,
      "outputs": []
    },
    {
      "cell_type": "code",
      "source": [
        "combine_datasets(\"merged_ALL_METEO_2023.csv\", \"merged_ALL_POLLUTANTS_2023.csv\", \"daily_aqi_by_county_2023.csv\", \"all_attributes_2023.csv\")"
      ],
      "metadata": {
        "colab": {
          "base_uri": "https://localhost:8080/"
        },
        "id": "qkBviMtH0gb6",
        "outputId": "836b0889-766b-405b-865b-0c84709fe3e3"
      },
      "execution_count": 12,
      "outputs": [
        {
          "output_type": "stream",
          "name": "stdout",
          "text": [
            "Merged dataset saved to all_attributes_2023.csv\n"
          ]
        }
      ]
    },
    {
      "cell_type": "code",
      "source": [
        "combine_datasets(\"merged_ALL_METEO_2024.csv\", \"merged_ALL_POLLUTANTS_2024.csv\", \"daily_aqi_by_county_2024.csv\", \"all_attributes_2024.csv\")"
      ],
      "metadata": {
        "colab": {
          "base_uri": "https://localhost:8080/"
        },
        "id": "u3oLge0zxRd5",
        "outputId": "b60f47d2-307e-4a82-c095-53dcc437ee03"
      },
      "execution_count": 13,
      "outputs": [
        {
          "output_type": "stream",
          "name": "stdout",
          "text": [
            "Merged dataset saved to all_attributes_2024.csv\n"
          ]
        }
      ]
    },
    {
      "cell_type": "code",
      "source": [
        "df = pd.read_csv('all_attributes_2023.csv')\n",
        "\n",
        "unique_states = df['State Name'].unique()\n",
        "\n",
        "df1 = pd.read_csv('all_attributes_2024.csv')\n",
        "\n",
        "unique_states1 = df1['State Name'].unique()\n",
        "\n",
        "print(f\"Number of unique states: {unique_states}\")\n",
        "\n",
        "print(f\"Number of unique states: {unique_states1}\")\n",
        "\n",
        "count = 0\n",
        "commonState = []\n",
        "for item in unique_states1:\n",
        "    for i in unique_states:\n",
        "        if (item == i):\n",
        "            count += 1\n",
        "            commonState.append(item)\n",
        "            break\n",
        "\n",
        "print(count)\n",
        "print(len(commonState))\n",
        "print(commonState)"
      ],
      "metadata": {
        "colab": {
          "base_uri": "https://localhost:8080/"
        },
        "id": "1Sl50JvR0xmy",
        "outputId": "72519dfe-cdec-41c5-af71-767913f037bb"
      },
      "execution_count": 16,
      "outputs": [
        {
          "output_type": "stream",
          "name": "stdout",
          "text": [
            "Number of unique states: ['Alabama' 'Arizona' 'California' 'Connecticut' 'District Of Columbia'\n",
            " 'Georgia' 'Idaho' 'Illinois' 'Indiana' 'Kentucky' 'Louisiana' 'Maryland'\n",
            " 'Massachusetts' 'Michigan' 'Missouri' 'Nevada' 'New Hampshire'\n",
            " 'New Mexico' 'North Carolina' 'North Dakota' 'Ohio' 'Pennsylvania'\n",
            " 'Rhode Island' 'Tennessee' 'Texas' 'Virginia' 'Washington' 'Wyoming']\n",
            "Number of unique states: ['Arizona' 'California' 'Connecticut' 'Georgia' 'Idaho' 'Illinois'\n",
            " 'Indiana' 'Iowa' 'Louisiana' 'Maryland' 'Massachusetts' 'Michigan'\n",
            " 'Missouri' 'Nevada' 'New Hampshire' 'New Mexico' 'North Carolina'\n",
            " 'North Dakota' 'Ohio' 'Oregon' 'Pennsylvania' 'Rhode Island' 'Texas'\n",
            " 'Virginia' 'Washington' 'Wyoming']\n",
            "24\n",
            "24\n",
            "['Arizona', 'California', 'Connecticut', 'Georgia', 'Idaho', 'Illinois', 'Indiana', 'Louisiana', 'Maryland', 'Massachusetts', 'Michigan', 'Missouri', 'Nevada', 'New Hampshire', 'New Mexico', 'North Carolina', 'North Dakota', 'Ohio', 'Pennsylvania', 'Rhode Island', 'Texas', 'Virginia', 'Washington', 'Wyoming']\n"
          ]
        }
      ]
    },
    {
      "cell_type": "code",
      "source": [
        "def filterRows(filename):\n",
        "    commonState = ['Arizona', 'California', 'Connecticut', 'Georgia', 'Idaho', 'Illinois', 'Indiana', 'Louisiana', 'Maryland', 'Massachusetts', 'Michigan', 'Missouri', 'Nevada', 'New Hampshire', 'New Mexico', 'North Carolina', 'North Dakota', 'Ohio', 'Pennsylvania', 'Rhode Island', 'Texas', 'Virginia', 'Washington', 'Wyoming']\n",
        "\n",
        "    match = re.search(r'_(\\d{4})', filename)\n",
        "    year = match.group(1)\n",
        "\n",
        "    df = pd.read_csv(filename)\n",
        "\n",
        "    # Filter rows where 'State Name' is in the commonState list\n",
        "    filtered_df = df[df['State Name'].isin(commonState)]\n",
        "\n",
        "    # Optional: Save to a new CSV file\n",
        "    output_filename = f'24StateAQI_{year}.csv'\n",
        "    filtered_df.to_csv(output_filename, index=False)\n",
        "\n",
        "    # Display the first few rows to verify\n",
        "    print(filtered_df.head())"
      ],
      "metadata": {
        "id": "zd0b01wB0_sk"
      },
      "execution_count": 19,
      "outputs": []
    },
    {
      "cell_type": "code",
      "source": [
        "filterRows(\"all_attributes_2023.csv\")\n",
        "filterRows(\"all_attributes_2024.csv\")"
      ],
      "metadata": {
        "colab": {
          "base_uri": "https://localhost:8080/"
        },
        "id": "Hb353TR61Dh4",
        "outputId": "dc36157b-e960-4974-a4a6-9275269c0795"
      },
      "execution_count": 20,
      "outputs": [
        {
          "output_type": "stream",
          "name": "stdout",
          "text": [
            "    State Name County Name        Date  Arithmetic Mean_PRESS  \\\n",
            "533    Arizona    Maricopa  2023-01-01             967.183333   \n",
            "534    Arizona    Maricopa  2023-01-01             967.183333   \n",
            "535    Arizona    Maricopa  2023-01-02             973.091667   \n",
            "536    Arizona    Maricopa  2023-01-02             973.091667   \n",
            "537    Arizona    Maricopa  2023-01-03             978.025000   \n",
            "\n",
            "     1st Max Value_PRESS  1st Max Hour_PRESS  Arithmetic Mean_RH_DP  \\\n",
            "533                970.3                   0              82.083333   \n",
            "534                970.3                   0              82.083333   \n",
            "535                976.5                  21              71.916667   \n",
            "536                976.5                  21              71.916667   \n",
            "537                981.0                  22              68.458333   \n",
            "\n",
            "     1st Max Value_RH_DP  1st Max Hour_RH_DP  Arithmetic Mean_TEMP  ...  \\\n",
            "533                 90.0                  16             54.041667  ...   \n",
            "534                 90.0                  16             54.041667  ...   \n",
            "535                 94.0                   5             51.833333  ...   \n",
            "536                 94.0                   5             51.833333  ...   \n",
            "537                 84.0                   6             53.416667  ...   \n",
            "\n",
            "     1st Max Value_so2  1st Max Hour_so2  Arithmetic Mean_co  \\\n",
            "533                0.0                 0            0.273684   \n",
            "534                0.9                 0            0.173684   \n",
            "535                0.0                 0            0.187500   \n",
            "536                0.2                 3            0.187500   \n",
            "537                0.0                 0            0.254167   \n",
            "\n",
            "     1st Max Value_co  1st Max Hour_co  Arithmetic Mean_no2  \\\n",
            "533               0.4                5             9.666667   \n",
            "534               0.5                5             7.116667   \n",
            "535               0.2                0            10.833333   \n",
            "536               0.3               21             9.150000   \n",
            "537               0.4               21            15.291667   \n",
            "\n",
            "     1st Max Value_no2  1st Max Hour_no2  AQI   Category  \n",
            "533               16.0                 3  160  Unhealthy  \n",
            "534               21.4                 0  160  Unhealthy  \n",
            "535               26.0                 7   37       Good  \n",
            "536               23.0                19   37       Good  \n",
            "537               34.0                20   41       Good  \n",
            "\n",
            "[5 rows x 32 columns]\n",
            "  State Name County Name        Date  Arithmetic Mean_PRESS  \\\n",
            "0    Arizona    Maricopa  2024-01-01             977.600000   \n",
            "1    Arizona    Maricopa  2024-01-01             977.600000   \n",
            "2    Arizona    Maricopa  2024-01-02             980.770833   \n",
            "3    Arizona    Maricopa  2024-01-02             980.770833   \n",
            "4    Arizona    Maricopa  2024-01-03             976.008333   \n",
            "\n",
            "   1st Max Value_PRESS  1st Max Hour_PRESS  Arithmetic Mean_RH_DP  \\\n",
            "0                978.9                  10              64.541667   \n",
            "1                978.9                  10              64.541667   \n",
            "2                983.2                  10              58.791667   \n",
            "3                983.2                  10              58.791667   \n",
            "4                980.5                   0              61.333333   \n",
            "\n",
            "   1st Max Value_RH_DP  1st Max Hour_RH_DP  Arithmetic Mean_TEMP  ...  \\\n",
            "0                 85.0                   7             50.375000  ...   \n",
            "1                 85.0                   7             50.375000  ...   \n",
            "2                 84.0                   7             51.333333  ...   \n",
            "3                 84.0                   7             51.333333  ...   \n",
            "4                 84.0                  23             50.958333  ...   \n",
            "\n",
            "   1st Max Value_so2  1st Max Hour_so2  Arithmetic Mean_co  1st Max Value_co  \\\n",
            "0                2.0                 0            1.057895               2.6   \n",
            "1                2.3                21            0.757895               1.3   \n",
            "2                2.0                11            0.495833               0.7   \n",
            "3                1.4                 8            0.500000               0.7   \n",
            "4                1.0                 8            0.320833               0.7   \n",
            "\n",
            "   1st Max Hour_co  Arithmetic Mean_no2  1st Max Value_no2  1st Max Hour_no2  \\\n",
            "0                5            22.083333               34.0                20   \n",
            "1                8            22.200000               37.3                18   \n",
            "2               23            25.041667               40.0                19   \n",
            "3                0            22.558333               38.7                19   \n",
            "4                0            16.416667               24.0                 7   \n",
            "\n",
            "   AQI        Category  \n",
            "0  261  Very Unhealthy  \n",
            "1  261  Very Unhealthy  \n",
            "2   80        Moderate  \n",
            "3   80        Moderate  \n",
            "4   59        Moderate  \n",
            "\n",
            "[5 rows x 32 columns]\n"
          ]
        }
      ]
    },
    {
      "cell_type": "markdown",
      "source": [
        "# ML Analysis\n",
        "Here we are using a multi-feature linear regression model to predict 2024 AQI using the 2023 figures. To evaluate performance, we will run a baseline where our 2023 AQI is our 2024 AQI. The analysis will be done by state.\n",
        "- The below part for ML analysis is from ml.ipynb and random_forest_analysis.py"
      ],
      "metadata": {
        "id": "acqbJ7jDOEnR"
      }
    },
    {
      "cell_type": "code",
      "source": [
        "import math\n",
        "import pandas as pd\n",
        "import numpy as np\n",
        "from sklearn.linear_model import LinearRegression\n",
        "from sklearn.metrics import mean_squared_error, r2_score"
      ],
      "metadata": {
        "id": "M5qslvmBOI9G"
      },
      "execution_count": 21,
      "outputs": []
    },
    {
      "cell_type": "code",
      "source": [
        "df_2023 = pd.read_csv(\"/content/24StateAQI_2023.csv\")\n",
        "df_2024 = pd.read_csv(\"/content/24StateAQI_2024.csv\")"
      ],
      "metadata": {
        "id": "kAuDhTHuO2Oh"
      },
      "execution_count": 22,
      "outputs": []
    },
    {
      "cell_type": "code",
      "source": [
        "df_2023_bystate = df_2023.groupby(\"State Name\", as_index=False)[\"AQI\"].mean().rename(columns={\"AQI\": \"AQI_2023\"})\n",
        "df_2024_bystate = df_2024.groupby(\"State Name\", as_index=False)[\"AQI\"].mean().rename(columns={\"AQI\": \"AQI_2024\"})\n",
        "# aggregate by state name, get average aqi per state, we also rename some columns to avoid duplicate column names."
      ],
      "metadata": {
        "id": "SU_6Z7XKPQXo"
      },
      "execution_count": 23,
      "outputs": []
    },
    {
      "cell_type": "code",
      "source": [
        "df = pd.merge(df_2023_bystate, df_2024_bystate, on=\"State Name\")\n",
        "\n",
        "X = df[['AQI_2023']].values\n",
        "y = df['AQI_2024'].values"
      ],
      "metadata": {
        "id": "K3G6RQSnPTEr"
      },
      "execution_count": 24,
      "outputs": []
    },
    {
      "cell_type": "code",
      "source": [
        "y_baseline = df['AQI_2023'].values\n",
        "baseline_mse = mean_squared_error(y, y_baseline)\n",
        "baseline_r2 = r2_score(y, y_baseline)\n",
        "print(\"Baseline:\")\n",
        "print(\"Mean Squared Error:\", baseline_mse)\n",
        "print(\"R2 Score:\", baseline_r2)\n",
        "print(f\"RMSE: {math.sqrt(baseline_mse)} AQI units\")"
      ],
      "metadata": {
        "colab": {
          "base_uri": "https://localhost:8080/"
        },
        "id": "n_Z0TZ7HPU02",
        "outputId": "3b30a1c3-12e2-4178-f795-4eb2dbb02c85"
      },
      "execution_count": 25,
      "outputs": [
        {
          "output_type": "stream",
          "name": "stdout",
          "text": [
            "Baseline:\n",
            "Mean Squared Error: 66.29198501264854\n",
            "R2 Score: 0.18764956246245157\n",
            "RMSE: 8.141989008384163 AQI units\n"
          ]
        }
      ]
    },
    {
      "cell_type": "code",
      "source": [
        "model = LinearRegression()\n",
        "model.fit(X,y)\n",
        "pred = model.predict(X)\n",
        "#simple linear regression"
      ],
      "metadata": {
        "id": "7BkgPRZLPXwH"
      },
      "execution_count": 28,
      "outputs": []
    },
    {
      "cell_type": "code",
      "source": [
        "lr_mse = mean_squared_error(y, pred)\n",
        "lr_r2 = r2_score(y, pred)\n",
        "\n",
        "print(\"Linear Regression Model:\")\n",
        "print(\"Mean Squared Error:\", lr_mse)\n",
        "print(\"R2 Score:\", lr_r2)\n",
        "print(f\"RMSE: {math.sqrt(lr_mse)} AQI units\")"
      ],
      "metadata": {
        "colab": {
          "base_uri": "https://localhost:8080/"
        },
        "id": "4bLquSFsPZxd",
        "outputId": "268839f9-62c7-4bb4-e0c7-4337dae20d84"
      },
      "execution_count": 29,
      "outputs": [
        {
          "output_type": "stream",
          "name": "stdout",
          "text": [
            "Linear Regression Model:\n",
            "Mean Squared Error: 30.24885623589958\n",
            "R2 Score: 0.629326658516034\n",
            "RMSE: 5.499896020462531 AQI units\n"
          ]
        }
      ]
    },
    {
      "cell_type": "markdown",
      "source": [
        "### Although this is just a starting point, we can see that we can more accurately predict AQI through machinelearning as opposed to relying solely on historical data. Going forward, we will implement a more complex model that predicts AQI using all of the features from the dataset and can draw more complex conclusions about AQI and the factors that go into it."
      ],
      "metadata": {
        "id": "x1EXSSlJ1ZmL"
      }
    },
    {
      "cell_type": "code",
      "source": [
        "from sklearn.ensemble import RandomForestRegressor\n",
        "from sklearn.metrics import mean_absolute_error, r2_score\n",
        "import math\n",
        "\n",
        "# Define features and target\n",
        "X = df[['AQI_2023']]\n",
        "y = df['AQI_2024']\n",
        "\n",
        "# Train Linear Regression\n",
        "baseline = LinearRegression()\n",
        "baseline.fit(X, y)\n",
        "y_pred_base = baseline.predict(X)\n",
        "\n",
        "# Train Random Forest\n",
        "rf = RandomForestRegressor(random_state=42)\n",
        "rf.fit(X, y)\n",
        "y_pred_rf = rf.predict(X)\n",
        "\n",
        "# Evaluate both models\n",
        "results = {\n",
        "    \"Model\": [\"Linear Regression\", \"Random Forest\"],\n",
        "    \"MAE\": [mean_absolute_error(y, y_pred_base), mean_absolute_error(y, y_pred_rf)],\n",
        "    \"R2 Score\": [r2_score(y, y_pred_base), r2_score(y, y_pred_rf)],\n",
        "    \"RMSE\": [math.sqrt(mean_squared_error(y, y_pred_base)), math.sqrt(mean_squared_error(y, y_pred_rf))]\n",
        "}\n",
        "results_df = pd.DataFrame(results)\n",
        "\n",
        "# Plot actual vs predicted for both models\n",
        "plt.figure(figsize=(10, 5))\n",
        "plt.scatter(X, y, color='black', label='Actual AQI_2024')\n",
        "plt.plot(X, y_pred_base, color='blue', label='Linear Regression Prediction')\n",
        "plt.scatter(X, y_pred_rf, color='green', label='Random Forest Prediction')\n",
        "plt.xlabel(\"AQI 2023\")\n",
        "plt.ylabel(\"AQI 2024\")\n",
        "plt.title(\"Actual vs Predicted AQI 2024\")\n",
        "plt.legend()\n",
        "plt.tight_layout()\n",
        "plt.show()\n"
      ],
      "metadata": {
        "colab": {
          "base_uri": "https://localhost:8080/",
          "height": 507
        },
        "id": "Ppyh3oP-QWMc",
        "outputId": "f7ca3f01-2e5b-42e1-b203-6f76ddea675c"
      },
      "execution_count": 33,
      "outputs": [
        {
          "output_type": "display_data",
          "data": {
            "text/plain": [
              "<Figure size 1000x500 with 1 Axes>"
            ],
            "image/png": "[encoded data removed]"
          },
          "metadata": {}
        }
      ]
    },
    {
      "cell_type": "code",
      "source": [
        "results_df"
      ],
      "metadata": {
        "colab": {
          "base_uri": "https://localhost:8080/",
          "height": 125
        },
        "id": "4lS6WEn-Xy4P",
        "outputId": "5be51efc-3c8e-4302-e1a5-9d925f37adfe"
      },
      "execution_count": 34,
      "outputs": [
        {
          "output_type": "execute_result",
          "data": {
            "text/plain": [
              "               Model       MAE  R2 Score      RMSE\n",
              "0  Linear Regression  3.676587  0.629327  5.499896\n",
              "1      Random Forest  1.478333  0.943010  2.156537"
            ],
            "text/html": [
              "\n",
              "  <div id=\"df-b947d5cd-0eb6-4f8c-be5b-e7a6fd97b2c9\" class=\"colab-df-container\">\n",
              "    <div>\n",
              "<style scoped>\n",
              "    .dataframe tbody tr th:only-of-type {\n",
              "        vertical-align: middle;\n",
              "    }\n",
              "\n",
              "    .dataframe tbody tr th {\n",
              "        vertical-align: top;\n",
              "    }\n",
              "\n",
              "    .dataframe thead th {\n",
              "        text-align: right;\n",
              "    }\n",
              "</style>\n",
              "<table border=\"1\" class=\"dataframe\">\n",
              "  <thead>\n",
              "    <tr style=\"text-align: right;\">\n",
              "      <th></th>\n",
              "      <th>Model</th>\n",
              "      <th>MAE</th>\n",
              "      <th>R2 Score</th>\n",
              "      <th>RMSE</th>\n",
              "    </tr>\n",
              "  </thead>\n",
              "  <tbody>\n",
              "    <tr>\n",
              "      <th>0</th>\n",
              "      <td>Linear Regression</td>\n",
              "      <td>3.676587</td>\n",
              "      <td>0.629327</td>\n",
              "      <td>5.499896</td>\n",
              "    </tr>\n",
              "    <tr>\n",
              "      <th>1</th>\n",
              "      <td>Random Forest</td>\n",
              "      <td>1.478333</td>\n",
              "      <td>0.943010</td>\n",
              "      <td>2.156537</td>\n",
              "    </tr>\n",
              "  </tbody>\n",
              "</table>\n",
              "</div>\n",
              "    <div class=\"colab-df-buttons\">\n",
              "\n",
              "  <div class=\"colab-df-container\">\n",
              "    <button class=\"colab-df-convert\" onclick=\"convertToInteractive('df-b947d5cd-0eb6-4f8c-be5b-e7a6fd97b2c9')\"\n",
              "            title=\"Convert this dataframe to an interactive table.\"\n",
              "            style=\"display:none;\">\n",
              "\n",
              "  <svg xmlns=\"http://www.w3.org/2000/svg\" height=\"24px\" viewBox=\"0 -960 960 960\">\n",
              "    <path d=\"M120-120v-720h720v720H120Zm60-500h600v-160H180v160Zm220 220h160v-160H400v160Zm0 220h160v-160H400v160ZM180-400h160v-160H180v160Zm440 0h160v-160H620v160ZM180-180h160v-160H180v160Zm440 0h160v-160H620v160Z\"/>\n",
              "  </svg>\n",
              "    </button>\n",
              "\n",
              "  <style>\n",
              "    .colab-df-container {\n",
              "      display:flex;\n",
              "      gap: 12px;\n",
              "    }\n",
              "\n",
              "    .colab-df-convert {\n",
              "      background-color: #E8F0FE;\n",
              "      border: none;\n",
              "      border-radius: 50%;\n",
              "      cursor: pointer;\n",
              "      display: none;\n",
              "      fill: #1967D2;\n",
              "      height: 32px;\n",
              "      padding: 0 0 0 0;\n",
              "      width: 32px;\n",
              "    }\n",
              "\n",
              "    .colab-df-convert:hover {\n",
              "      background-color: #E2EBFA;\n",
              "      box-shadow: 0px 1px 2px rgba(60, 64, 67, 0.3), 0px 1px 3px 1px rgba(60, 64, 67, 0.15);\n",
              "      fill: #174EA6;\n",
              "    }\n",
              "\n",
              "    .colab-df-buttons div {\n",
              "      margin-bottom: 4px;\n",
              "    }\n",
              "\n",
              "    [theme=dark] .colab-df-convert {\n",
              "      background-color: #3B4455;\n",
              "      fill: #D2E3FC;\n",
              "    }\n",
              "\n",
              "    [theme=dark] .colab-df-convert:hover {\n",
              "      background-color: #434B5C;\n",
              "      box-shadow: 0px 1px 3px 1px rgba(0, 0, 0, 0.15);\n",
              "      filter: drop-shadow(0px 1px 2px rgba(0, 0, 0, 0.3));\n",
              "      fill: #FFFFFF;\n",
              "    }\n",
              "  </style>\n",
              "\n",
              "    <script>\n",
              "      const buttonEl =\n",
              "        document.querySelector('#df-b947d5cd-0eb6-4f8c-be5b-e7a6fd97b2c9 button.colab-df-convert');\n",
              "      buttonEl.style.display =\n",
              "        google.colab.kernel.accessAllowed ? 'block' : 'none';\n",
              "\n",
              "      async function convertToInteractive(key) {\n",
              "        const element = document.querySelector('#df-b947d5cd-0eb6-4f8c-be5b-e7a6fd97b2c9');\n",
              "        const dataTable =\n",
              "          await google.colab.kernel.invokeFunction('convertToInteractive',\n",
              "                                                    [key], {});\n",
              "        if (!dataTable) return;\n",
              "\n",
              "        const docLinkHtml = 'Like what you see? Visit the ' +\n",
              "          '<a target=\"_blank\" href=https://colab.research.google.com/notebooks/data_table.ipynb>data table notebook</a>'\n",
              "          + ' to learn more about interactive tables.';\n",
              "        element.innerHTML = '';\n",
              "        dataTable['output_type'] = 'display_data';\n",
              "        await google.colab.output.renderOutput(dataTable, element);\n",
              "        const docLink = document.createElement('div');\n",
              "        docLink.innerHTML = docLinkHtml;\n",
              "        element.appendChild(docLink);\n",
              "      }\n",
              "    </script>\n",
              "  </div>\n",
              "\n",
              "\n",
              "<div id=\"df-3ca5dd48-9be4-407b-a441-99c7717dd1ab\">\n",
              "  <button class=\"colab-df-quickchart\" onclick=\"quickchart('df-3ca5dd48-9be4-407b-a441-99c7717dd1ab')\"\n",
              "            title=\"Suggest charts\"\n",
              "            style=\"display:none;\">\n",
              "\n",
              "<svg xmlns=\"http://www.w3.org/2000/svg\" height=\"24px\"viewBox=\"0 0 24 24\"\n",
              "     width=\"24px\">\n",
              "    <g>\n",
              "        <path d=\"M19 3H5c-1.1 0-2 .9-2 2v14c0 1.1.9 2 2 2h14c1.1 0 2-.9 2-2V5c0-1.1-.9-2-2-2zM9 17H7v-7h2v7zm4 0h-2V7h2v10zm4 0h-2v-4h2v4z\"/>\n",
              "    </g>\n",
              "</svg>\n",
              "  </button>\n",
              "\n",
              "<style>\n",
              "  .colab-df-quickchart {\n",
              "      --bg-color: #E8F0FE;\n",
              "      --fill-color: #1967D2;\n",
              "      --hover-bg-color: #E2EBFA;\n",
              "      --hover-fill-color: #174EA6;\n",
              "      --disabled-fill-color: #AAA;\n",
              "      --disabled-bg-color: #DDD;\n",
              "  }\n",
              "\n",
              "  [theme=dark] .colab-df-quickchart {\n",
              "      --bg-color: #3B4455;\n",
              "      --fill-color: #D2E3FC;\n",
              "      --hover-bg-color: #434B5C;\n",
              "      --hover-fill-color: #FFFFFF;\n",
              "      --disabled-bg-color: #3B4455;\n",
              "      --disabled-fill-color: #666;\n",
              "  }\n",
              "\n",
              "  .colab-df-quickchart {\n",
              "    background-color: var(--bg-color);\n",
              "    border: none;\n",
              "    border-radius: 50%;\n",
              "    cursor: pointer;\n",
              "    display: none;\n",
              "    fill: var(--fill-color);\n",
              "    height: 32px;\n",
              "    padding: 0;\n",
              "    width: 32px;\n",
              "  }\n",
              "\n",
              "  .colab-df-quickchart:hover {\n",
              "    background-color: var(--hover-bg-color);\n",
              "    box-shadow: 0 1px 2px rgba(60, 64, 67, 0.3), 0 1px 3px 1px rgba(60, 64, 67, 0.15);\n",
              "    fill: var(--button-hover-fill-color);\n",
              "  }\n",
              "\n",
              "  .colab-df-quickchart-complete:disabled,\n",
              "  .colab-df-quickchart-complete:disabled:hover {\n",
              "    background-color: var(--disabled-bg-color);\n",
              "    fill: var(--disabled-fill-color);\n",
              "    box-shadow: none;\n",
              "  }\n",
              "\n",
              "  .colab-df-spinner {\n",
              "    border: 2px solid var(--fill-color);\n",
              "    border-color: transparent;\n",
              "    border-bottom-color: var(--fill-color);\n",
              "    animation:\n",
              "      spin 1s steps(1) infinite;\n",
              "  }\n",
              "\n",
              "  @keyframes spin {\n",
              "    0% {\n",
              "      border-color: transparent;\n",
              "      border-bottom-color: var(--fill-color);\n",
              "      border-left-color: var(--fill-color);\n",
              "    }\n",
              "    20% {\n",
              "      border-color: transparent;\n",
              "      border-left-color: var(--fill-color);\n",
              "      border-top-color: var(--fill-color);\n",
              "    }\n",
              "    30% {\n",
              "      border-color: transparent;\n",
              "      border-left-color: var(--fill-color);\n",
              "      border-top-color: var(--fill-color);\n",
              "      border-right-color: var(--fill-color);\n",
              "    }\n",
              "    40% {\n",
              "      border-color: transparent;\n",
              "      border-right-color: var(--fill-color);\n",
              "      border-top-color: var(--fill-color);\n",
              "    }\n",
              "    60% {\n",
              "      border-color: transparent;\n",
              "      border-right-color: var(--fill-color);\n",
              "    }\n",
              "    80% {\n",
              "      border-color: transparent;\n",
              "      border-right-color: var(--fill-color);\n",
              "      border-bottom-color: var(--fill-color);\n",
              "    }\n",
              "    90% {\n",
              "      border-color: transparent;\n",
              "      border-bottom-color: var(--fill-color);\n",
              "    }\n",
              "  }\n",
              "</style>\n",
              "\n",
              "  <script>\n",
              "    async function quickchart(key) {\n",
              "      const quickchartButtonEl =\n",
              "        document.querySelector('#' + key + ' button');\n",
              "      quickchartButtonEl.disabled = true;  // To prevent multiple clicks.\n",
              "      quickchartButtonEl.classList.add('colab-df-spinner');\n",
              "      try {\n",
              "        const charts = await google.colab.kernel.invokeFunction(\n",
              "            'suggestCharts', [key], {});\n",
              "      } catch (error) {\n",
              "        console.error('Error during call to suggestCharts:', error);\n",
              "      }\n",
              "      quickchartButtonEl.classList.remove('colab-df-spinner');\n",
              "      quickchartButtonEl.classList.add('colab-df-quickchart-complete');\n",
              "    }\n",
              "    (() => {\n",
              "      let quickchartButtonEl =\n",
              "        document.querySelector('#df-3ca5dd48-9be4-407b-a441-99c7717dd1ab button');\n",
              "      quickchartButtonEl.style.display =\n",
              "        google.colab.kernel.accessAllowed ? 'block' : 'none';\n",
              "    })();\n",
              "  </script>\n",
              "</div>\n",
              "\n",
              "  <div id=\"id_0e483fd6-aadc-4dcd-8537-51abb9c18b8f\">\n",
              "    <style>\n",
              "      .colab-df-generate {\n",
              "        background-color: #E8F0FE;\n",
              "        border: none;\n",
              "        border-radius: 50%;\n",
              "        cursor: pointer;\n",
              "        display: none;\n",
              "        fill: #1967D2;\n",
              "        height: 32px;\n",
              "        padding: 0 0 0 0;\n",
              "        width: 32px;\n",
              "      }\n",
              "\n",
              "      .colab-df-generate:hover {\n",
              "        background-color: #E2EBFA;\n",
              "        box-shadow: 0px 1px 2px rgba(60, 64, 67, 0.3), 0px 1px 3px 1px rgba(60, 64, 67, 0.15);\n",
              "        fill: #174EA6;\n",
              "      }\n",
              "\n",
              "      [theme=dark] .colab-df-generate {\n",
              "        background-color: #3B4455;\n",
              "        fill: #D2E3FC;\n",
              "      }\n",
              "\n",
              "      [theme=dark] .colab-df-generate:hover {\n",
              "        background-color: #434B5C;\n",
              "        box-shadow: 0px 1px 3px 1px rgba(0, 0, 0, 0.15);\n",
              "        filter: drop-shadow(0px 1px 2px rgba(0, 0, 0, 0.3));\n",
              "        fill: #FFFFFF;\n",
              "      }\n",
              "    </style>\n",
              "    <button class=\"colab-df-generate\" onclick=\"generateWithVariable('results_df')\"\n",
              "            title=\"Generate code using this dataframe.\"\n",
              "            style=\"display:none;\">\n",
              "\n",
              "  <svg xmlns=\"http://www.w3.org/2000/svg\" height=\"24px\"viewBox=\"0 0 24 24\"\n",
              "       width=\"24px\">\n",
              "    <path d=\"M7,19H8.4L18.45,9,17,7.55,7,17.6ZM5,21V16.75L18.45,3.32a2,2,0,0,1,2.83,0l1.4,1.43a1.91,1.91,0,0,1,.58,1.4,1.91,1.91,0,0,1-.58,1.4L9.25,21ZM18.45,9,17,7.55Zm-12,3A5.31,5.31,0,0,0,4.9,8.1,5.31,5.31,0,0,0,1,6.5,5.31,5.31,0,0,0,4.9,4.9,5.31,5.31,0,0,0,6.5,1,5.31,5.31,0,0,0,8.1,4.9,5.31,5.31,0,0,0,12,6.5,5.46,5.46,0,0,0,6.5,12Z\"/>\n",
              "  </svg>\n",
              "    </button>\n",
              "    <script>\n",
              "      (() => {\n",
              "      const buttonEl =\n",
              "        document.querySelector('#id_0e483fd6-aadc-4dcd-8537-51abb9c18b8f button.colab-df-generate');\n",
              "      buttonEl.style.display =\n",
              "        google.colab.kernel.accessAllowed ? 'block' : 'none';\n",
              "\n",
              "      buttonEl.onclick = () => {\n",
              "        google.colab.notebook.generateWithVariable('results_df');\n",
              "      }\n",
              "      })();\n",
              "    </script>\n",
              "  </div>\n",
              "\n",
              "    </div>\n",
              "  </div>\n"
            ],
            "application/vnd.google.colaboratory.intrinsic+json": {
              "type": "dataframe",
              "variable_name": "results_df",
              "summary": "{\n  \"name\": \"results_df\",\n  \"rows\": 2,\n  \"fields\": [\n    {\n      \"column\": \"Model\",\n      \"properties\": {\n        \"dtype\": \"string\",\n        \"num_unique_values\": 2,\n        \"samples\": [\n          \"Random Forest\",\n          \"Linear Regression\"\n        ],\n        \"semantic_type\": \"\",\n        \"description\": \"\"\n      }\n    },\n    {\n      \"column\": \"MAE\",\n      \"properties\": {\n        \"dtype\": \"number\",\n        \"std\": 1.5544002490684634,\n        \"min\": 1.4783326991991699,\n        \"max\": 3.676586612787908,\n        \"num_unique_values\": 2,\n        \"samples\": [\n          1.4783326991991699,\n          3.676586612787908\n        ],\n        \"semantic_type\": \"\",\n        \"description\": \"\"\n      }\n    },\n    {\n      \"column\": \"R2 Score\",\n      \"properties\": {\n        \"dtype\": \"number\",\n        \"std\": 0.2218078259833414,\n        \"min\": 0.629326658516034,\n        \"max\": 0.9430102942621668,\n        \"num_unique_values\": 2,\n        \"samples\": [\n          0.9430102942621668,\n          0.629326658516034\n        ],\n        \"semantic_type\": \"\",\n        \"description\": \"\"\n      }\n    },\n    {\n      \"column\": \"RMSE\",\n      \"properties\": {\n        \"dtype\": \"number\",\n        \"std\": 2.3641114987247294,\n        \"min\": 2.1565374760038347,\n        \"max\": 5.499896020462531,\n        \"num_unique_values\": 2,\n        \"samples\": [\n          2.1565374760038347,\n          5.499896020462531\n        ],\n        \"semantic_type\": \"\",\n        \"description\": \"\"\n      }\n    }\n  ]\n}"
            }
          },
          "metadata": {},
          "execution_count": 34
        }
      ]
    },
    {
      "cell_type": "markdown",
      "source": [
        "### Both models outperform the baseline, with Random Forest achieving the lowest RMSE (2.16 vs. 8.14) and highest R² (0.94 vs. 0.19), indicating much better predictive power. Linear Regression improves over baseline but is less accurate than Random Forest."
      ],
      "metadata": {
        "id": "YKzZoJ8r3HiA"
      }
    },
    {
      "cell_type": "markdown",
      "source": [
        "# Exploratory data analysis"
      ],
      "metadata": {
        "id": "s5rIgXTm1s1B"
      }
    },
    {
      "cell_type": "code",
      "source": [
        "df = pd.read_csv('24StateAQI_2023.csv')\n",
        "key_columns = ['AQI', 'Arithmetic Mean_TEMP', 'Arithmetic Mean_RH_DP']\n",
        "df_key = df[key_columns]\n",
        "\n",
        "# summary stats\n",
        "mean = df_key.mean().round(2)\n",
        "median = df_key.median().round(2)\n",
        "mode = df[['AQI', 'Category', 'County Name', 'State Name']].mode().iloc[0]\n",
        "\n",
        "print(\"Analysis of 2023 dataset\")\n",
        "print(\"Mean:\")\n",
        "for col in key_columns:\n",
        "    print(f\"{col.split('_')[-1]}: {mean[col]}\")\n",
        "\n",
        "print(\"Median:\")\n",
        "for col in key_columns:\n",
        "    print(f\"{col.split('_')[-1]}: {median[col]}\")\n",
        "\n",
        "print(\"Mode:\")\n",
        "print(f\"AQI: {mode['AQI']} | Category: {mode['Category']} | County: {mode['County Name']} | State: {mode['State Name']}\")"
      ],
      "metadata": {
        "colab": {
          "base_uri": "https://localhost:8080/"
        },
        "id": "_G5XBc281uzB",
        "outputId": "2787d0d3-18c0-46d2-e8da-ab12b2fc29c2"
      },
      "execution_count": 35,
      "outputs": [
        {
          "output_type": "stream",
          "name": "stdout",
          "text": [
            "Analysis of 2023 dataset\n",
            "Mean:\n",
            "AQI: 69.77\n",
            "TEMP: 63.4\n",
            "DP: 60.25\n",
            "Median:\n",
            "AQI: 59.0\n",
            "TEMP: 63.62\n",
            "DP: 63.33\n",
            "Mode:\n",
            "AQI: 52 | Category: Moderate | County: Los Angeles | State: California\n"
          ]
        }
      ]
    },
    {
      "cell_type": "markdown",
      "source": [
        "Findings: AQI mean 69.77 (Moderate condition), median 59 and mode 52, shows the occasional pollutions, where temperature and pollutants show moderate variation. Overall, the data is reliable for further analysis.\n",
        "\n",
        "Hypothesis: Higher temperatures and lower humidity levels are strongly associated with increased AQI.\n",
        "\n",
        "Visulization description: The heatmap shows AQI is positively correlated with temperature (r = 0.41) and negatively correlated with humidity (r = -0.14), confirming that hot, dry conditions worsen air quality.\n",
        "\n",
        "EDA: Loaded clean data, summarized key stats, analyzed correlations and outliers, explored temporal trends, and identified high-risk hot, dry regions. This is one factor that we can consider for our hypothesis, where it could be the case of counties that are hot and dry is higher risk of being polluted."
      ],
      "metadata": {
        "id": "bUDPdxp72s7n"
      }
    },
    {
      "cell_type": "code",
      "source": [
        "df = pd.read_csv('24StateAQI_2023.csv')\n",
        "df['Date'] = pd.to_datetime(df['Date'])\n",
        "\n",
        "corr_columns = [\n",
        "    'AQI',\n",
        "    'Arithmetic Mean_TEMP',\n",
        "    'Arithmetic Mean_RH_DP',\n",
        "]\n",
        "corr_data = df[corr_columns].dropna()\n",
        "corr_matrix = corr_data.corr()\n",
        "\n",
        "plt.figure(figsize=(8,3.5))\n",
        "sns.heatmap(corr_matrix, annot=True, fmt=\".2f\", cmap='coolwarm', square=True)\n",
        "plt.title('Correlation Between AQI and Environmental Factors 2023')\n",
        "plt.tight_layout()\n",
        "plt.show()"
      ],
      "metadata": {
        "colab": {
          "base_uri": "https://localhost:8080/",
          "height": 357
        },
        "id": "Z2w1MBAM11GJ",
        "outputId": "b8bd5ee3-f534-4b91-bb15-7ca3db7ef9ff"
      },
      "execution_count": 36,
      "outputs": [
        {
          "output_type": "display_data",
          "data": {
            "text/plain": [
              "<Figure size 800x350 with 2 Axes>"
            ],
            "image/png": "[encoded data removed]"
          },
          "metadata": {}
        }
      ]
    },
    {
      "cell_type": "markdown",
      "source": [
        "Higher temperatures and lower humidity levels are strongly associated with increased AQI. This could be an interesting aspect to consider along with the hypothesis because this shows that places that are hot and dry have higher risks of being polluted."
      ],
      "metadata": {
        "id": "bAxY8pZx3V8G"
      }
    },
    {
      "cell_type": "markdown",
      "source": [
        "# Reflection\n",
        "- Hardest part: Handling large, detailed datasets without slowdowns.\n",
        "\n",
        "- Insights: AQI is strongly predictable from past values; Random Forest outperforms other models.\n",
        "\n",
        "- Concrete results: Yes — Random Forest achieved R² = 0.94 and RMSE = 2.16 vs. baseline RMSE = 8.14.\n",
        "\n",
        "- Biggest problems now: having data to rural vs urband\n",
        "\n",
        "- On track? Yes, but more time is needed for deeper data integration and model refinement.\n",
        "\n",
        "- Worth continuing? Absolutely — results are promising and support the project’s goals."
      ],
      "metadata": {
        "id": "4qHasfV33X4G"
      }
    },
    {
      "cell_type": "markdown",
      "source": [
        "# Next Steps\n",
        "- Consider updating data to cover both urban and rural areas\n",
        "- Build classification models to predict AQI categories (e.g., Good, Moderate, Unhealthy).\n",
        "\n",
        "- Visualize trends across time and geography to uncover spatial-temporal patterns.\n",
        "\n",
        "- Evaluate model performance using cross-validation and external validation.\n",
        "\n",
        "- Document results for interpretability and reproducibility."
      ],
      "metadata": {
        "id": "aoDfA00B3lKM"
      }
    }
  ]
}