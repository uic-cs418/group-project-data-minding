{
  "cells": [
    {
      "cell_type": "markdown",
      "metadata": {
        "id": "EE1IdEWY6ByK"
      },
      "source": [
        "# Data-Minding Group Progress Report"
      ]
    },
    {
      "cell_type": "markdown",
      "metadata": {
        "id": "Tj_A5UkH0J1C"
      },
      "source": [
        "## Project Introduction\n",
        "This project analyzes U.S. air pollution trends in urban vs. rural areas using 2023–2024 data. While urban pollution stems from traffic and industry, rural regions face challenges from agriculture and natural sources. We examine pollutants (CO, NO₂, SO₂, O₃) and weather data to understand what drives regional AQI patterns.\n",
        "## Scope Changes\n",
        "**What Stayed the Same:**\n",
        "- Focus on urban vs. rural AQI comparisons using 2023–2024 pollutant and weather data.\n",
        "\n",
        "**What Changed:**\n",
        "- Expanded analysis to all 50 states.\n",
        "- Plan to incorporate traffic and industrial activity data.\n",
        "- Will use Census/USDA data to define rural vs. urban.\n",
        "\n",
        "**Removed:**\n",
        "- PM2.5 analysis (due to missing data).\n",
        "- County-level modeling delayed in favor of state-level clarity.\n"
      ]
    },
    {
      "cell_type": "code",
      "execution_count": 1,
      "metadata": {
        "id": "MkfFrKLu50nv"
      },
      "outputs": [],
      "source": [
        "import pandas as pd\n",
        "import numpy as np\n",
        "import matplotlib.pyplot as plt\n",
        "import seaborn as sns\n",
        "import os\n",
        "import re\n",
        "import math\n",
        "from sklearn.linear_model import LinearRegression\n",
        "from sklearn.metrics import mean_squared_error, r2_score"
      ]
    },
    {
      "cell_type": "markdown",
      "metadata": {
        "id": "S7JLbXTU_OYk"
      },
      "source": [
        "# Data Cleaning"
      ]
    },
    {
      "cell_type": "markdown",
      "metadata": {
        "id": "kLSZJcf8_xiE"
      },
      "source": [
        "Data Overview\n",
        "Structure: Tabular CSVs with daily pollutant and weather measurements per county.\n",
        "\n",
        "Granularity: Daily, county-level; also aggregated to state-level for modeling.\n",
        "\n",
        "Scope: 24 U.S. states, covering CO, NO₂, SO₂, O₃, and weather data (2023–2024).\n",
        "\n",
        "Temporality: Daily data from Jan 2023 to Dec 2024, capturing seasonal trends.\n",
        "\n",
        "Faithfulness: Reliable EPA data; high quality but some gaps (e.g., PM2.5); rural/urban tagging to be added."
      ]
    },
    {
      "cell_type": "code",
      "execution_count": 73,
      "metadata": {
        "id": "XPBOX9JavgTX"
      },
      "outputs": [],
      "source": [
        "def clean_pollutant_dataset(df, pollutant_standard=None):\n",
        "    # Optional filter for pollutant standard (e.g., CO 8-hour 1971)\n",
        "    if pollutant_standard and 'Pollutant Standard' in df.columns:\n",
        "        df = df[df['Pollutant Standard'] == pollutant_standard]\n",
        "\n",
        "    # Convert 'Date Local' to datetime and drop rows with invalid dates\n",
        "    if 'Date Local' in df.columns:\n",
        "        df['Date Local'] = pd.to_datetime(df['Date Local'], errors='coerce')\n",
        "        df = df.dropna(subset=['Date Local'])\n",
        "\n",
        "    # Drop duplicate rows\n",
        "    df = df.drop_duplicates()\n",
        "\n",
        "    return df\n",
        "\n",
        "def combine_datasets_POLLUTANTS(file1, file2, file3, file4, output_file):\n",
        "    # Load and clean each dataset\n",
        "    df1 = clean_pollutant_dataset(pd.read_csv(file1))  # Ozone\n",
        "    df2 = clean_pollutant_dataset(pd.read_csv(file2), pollutant_standard='SO2 1-hour 2010')\n",
        "    df3 = clean_pollutant_dataset(pd.read_csv(file3), pollutant_standard='CO 8-hour 1971')\n",
        "    df4 = clean_pollutant_dataset(pd.read_csv(file4))  # NO2\n",
        "\n",
        "    # Select relevant columns and rename for clarity\n",
        "    df1 = df1[['State Name', 'County Name', 'Date Local', 'Local Site Name',\n",
        "               'Arithmetic Mean', '1st Max Value', '1st Max Hour']].rename(\n",
        "        columns={\n",
        "            'Arithmetic Mean': 'Arithmetic Mean_ozone',\n",
        "            '1st Max Value': '1st Max Value_ozone',\n",
        "            '1st Max Hour': '1st Max Hour_ozone'\n",
        "        })\n",
        "\n",
        "    df2 = df2[['State Name', 'County Name', 'Date Local', 'Local Site Name',\n",
        "               'Arithmetic Mean', '1st Max Value', '1st Max Hour']].rename(\n",
        "        columns={\n",
        "            'Arithmetic Mean': 'Arithmetic Mean_so2',\n",
        "            '1st Max Value': '1st Max Value_so2',\n",
        "            '1st Max Hour': '1st Max Hour_so2'\n",
        "        })\n",
        "\n",
        "    df3 = df3[['State Name', 'County Name', 'Date Local', 'Local Site Name',\n",
        "               'Arithmetic Mean', '1st Max Value', '1st Max Hour']].rename(\n",
        "        columns={\n",
        "            'Arithmetic Mean': 'Arithmetic Mean_co',\n",
        "            '1st Max Value': '1st Max Value_co',\n",
        "            '1st Max Hour': '1st Max Hour_co'\n",
        "        })\n",
        "\n",
        "    df4 = df4[['State Name', 'County Name', 'Date Local', 'Local Site Name',\n",
        "               'Arithmetic Mean', '1st Max Value', '1st Max Hour']].rename(\n",
        "        columns={\n",
        "            'Arithmetic Mean': 'Arithmetic Mean_no2',\n",
        "            '1st Max Value': '1st Max Value_no2',\n",
        "            '1st Max Hour': '1st Max Hour_no2'\n",
        "        })\n",
        "\n",
        "    # Merge datasets on common keys\n",
        "    merged_df = pd.merge(df1, df2, on=['State Name', 'County Name', 'Date Local', 'Local Site Name'], how='inner')\n",
        "    merged_df = pd.merge(merged_df, df3, on=['State Name', 'County Name', 'Date Local', 'Local Site Name'], how='inner')\n",
        "    merged_df = pd.merge(merged_df, df4, on=['State Name', 'County Name', 'Date Local', 'Local Site Name'], how='inner')\n",
        "\n",
        "    # Sort by location and date\n",
        "    merged_df = merged_df.sort_values(by=['State Name', 'County Name', 'Date Local'])\n",
        "\n",
        "    # Save to CSV\n",
        "    merged_df.to_csv(output_file, index=False)\n",
        "    print(f\"Merged pollutant dataset saved to: {output_file}\")"
      ]
    },
    {
      "cell_type": "code",
      "execution_count": null,
      "metadata": {
        "collapsed": true,
        "id": "vbBQEZMgwg4K"
      },
      "outputs": [],
      "source": [
        "combine_datasets_POLLUTANTS(\n",
        "    \"daily_44201_2023.csv\",  \"daily_42401_2023.csv\", \"daily_42101_2023.csv\", \"daily_42602_2023.csv\", \"merged_ALL_POLLUTANTS_2023.csv\"\n",
        ")"
      ]
    },
    {
      "cell_type": "code",
      "execution_count": null,
      "metadata": {
        "collapsed": true,
        "id": "YhdxNZkAwjM7"
      },
      "outputs": [],
      "source": [
        "combine_datasets_POLLUTANTS(\n",
        "    \"daily_44201_2024.csv\", \"daily_42401_2024.csv\", \"daily_42101_2024.csv\", \"daily_42602_2024.csv\", \"merged_ALL_POLLUTANTS_2024.csv\"\n",
        ")"
      ]
    },
    {
      "cell_type": "code",
      "execution_count": null,
      "metadata": {
        "id": "Vw_ZVgW0yOxP"
      },
      "outputs": [],
      "source": [
        "def combine_datasets_METEO(file1, file2, file3, file4, output_file):\n",
        "    # Read all four datasets\n",
        "    df1 = pd.read_csv(file1)  #\n",
        "    df2 = pd.read_csv(file2)  # SO2\n",
        "    df3 = pd.read_csv(file3)  # CO\n",
        "    df4 = pd.read_csv(file4)  # NO2\n",
        "    df5 = df4.copy()\n",
        "\n",
        "    # filtered_df = df[df['Ozone'] > 0.03]\n",
        "    df4 = df4[df4['Parameter Name'] == 'Wind Speed - Resultant']\n",
        "    df5 = df5[df5['Parameter Name'] == 'Wind Direction - Resultant']\n",
        "\n",
        "    # Select the relevant columns and rename them for each dataset\n",
        "    df1 = df1[['State Name', 'County Name', 'Date Local', 'Local Site Name', 'Arithmetic Mean', '1st Max Value', '1st Max Hour']].rename(\n",
        "        columns={'Arithmetic Mean': 'Arithmetic Mean_PRESS', '1st Max Value': '1st Max Value_PRESS', '1st Max Hour': '1st Max Hour_PRESS'})\n",
        "    df2 = df2[['State Name', 'County Name', 'Date Local', 'Local Site Name', 'Arithmetic Mean', '1st Max Value', '1st Max Hour']].rename(\n",
        "        columns={'Arithmetic Mean': 'Arithmetic Mean_RH_DP', '1st Max Value': '1st Max Value_RH_DP', '1st Max Hour': '1st Max Hour_RH_DP'})\n",
        "    df3 = df3[['State Name', 'County Name', 'Date Local', 'Local Site Name', 'Arithmetic Mean', '1st Max Value', '1st Max Hour']].rename(\n",
        "        columns={'Arithmetic Mean': 'Arithmetic Mean_TEMP', '1st Max Value': '1st Max Value_TEMP', '1st Max Hour': '1st Max Hour_TEMP'})\n",
        "    df4 = df4[['State Name', 'County Name', 'Date Local', 'Local Site Name', 'Arithmetic Mean', '1st Max Value', '1st Max Hour']].rename(\n",
        "        columns={'Arithmetic Mean': 'Arithmetic Mean_WIND_SPEED', '1st Max Value': '1st Max Value_WIND_SPEED', '1st Max Hour': '1st Max Hour_WIND_SPEED'})\n",
        "    df5 = df5[['State Name', 'County Name', 'Date Local', 'Local Site Name', 'Arithmetic Mean', '1st Max Value', '1st Max Hour']].rename(\n",
        "        columns={'Arithmetic Mean': 'Arithmetic Mean_WIND_DIRECTION', '1st Max Value': '1st Max Value_WIND_DIRECTION', '1st Max Hour': '1st Max Hour_WIND_DIRECTION'})\n",
        "\n",
        "    # Merge the datasets on common columns ('State Code', 'County Code', 'Date Local', 'Local Site Name')\n",
        "    merged_df = pd.merge(df1, df2, on=['State Name', 'County Name', 'Date Local', 'Local Site Name'], how='inner')\n",
        "    merged_df = pd.merge(merged_df, df3, on=['State Name', 'County Name', 'Date Local', 'Local Site Name'], how='inner')\n",
        "    merged_df = pd.merge(merged_df, df4, on=['State Name', 'County Name', 'Date Local', 'Local Site Name'], how='inner')\n",
        "    merged_df = pd.merge(merged_df, df5, on=['State Name', 'County Name', 'Date Local', 'Local Site Name'], how='inner')\n",
        "\n",
        "    merged_df = merged_df.sort_values(by=['State Name', 'County Name', 'Date Local'], ascending=[True, True, True])\n",
        "\n",
        "    # Save the combined dataset to a CSV file\n",
        "    merged_df.to_csv(output_file, index=False)\n",
        "    print(f\"Merged dataset saved to {output_file}\")\n",
        "\n",
        "\n",
        "combine_datasets_METEO(\"daily_PRESS_2023.csv\", \"daily_RH_DP_2023.csv\", \"daily_TEMP_2023.csv\", \"daily_WIND_2023.csv\", \"merged_ALL_METEO_2023.csv\")\n",
        "combine_datasets_METEO(\"daily_PRESS_2024.csv\", \"daily_RH_DP_2024.csv\", \"daily_TEMP_2024.csv\", \"daily_WIND_2024.csv\", \"merged_ALL_METEO_2024.csv\")"
      ]
    },
    {
      "cell_type": "markdown",
      "metadata": {
        "id": "WEbTLUW3v3T2"
      },
      "source": [
        "## Data Cleaning Steps\n",
        "\n",
        "- Filtered pollutant standards (e.g., **CO 8-hour 1971**, **SO2 1-hour 2010**) and wind parameters (**Wind Speed - Resultant**, **Wind Direction - Resultant**) for consistency.  \n",
        "- Selected key features: **Arithmetic Mean**, **Max Value**, and **Max Hour** across all datasets.  \n",
        "- Renamed columns to reflect their source and ensure uniqueness after merging.  \n",
        "- Dropped unnecessary columns like **Local Site Name** in final merges.  \n",
        "- Handled missing values implicitly by performing **inner joins**—retaining only rows with complete data across all selected variables.\n"
      ]
    },
    {
      "cell_type": "code",
      "execution_count": 77,
      "metadata": {
        "id": "l19L7Pa-v0zx"
      },
      "outputs": [],
      "source": [
        "def combine_datasets(file1, file2, file3, output_file):\n",
        "    # Read all three datasets: pollutants, meteorology, aqi_by_county\n",
        "    df1 = pd.read_csv(file1)  # pollutants\n",
        "    df2 = pd.read_csv(file2)  # meteorology\n",
        "    df3 = pd.read_csv(file3)  # aqi\n",
        "\n",
        "    df1 = df1.drop('Local Site Name', axis=1)\n",
        "    df2 = df2.drop('Local Site Name', axis=1)\n",
        "    df3 = df3[['State Name', 'county Name', 'Date', 'AQI', 'Category']].rename(columns={'county Name': 'County Name'})\n",
        "\n",
        "    # Merge the datasets on common columns ('State Code', 'County Code', 'Date Local', 'Local Site Name')\n",
        "    merged_df = pd.merge(df1, df2, on=['State Name', 'County Name', 'Date Local'], how='inner')\n",
        "    merged_df = merged_df.rename(columns={'Date Local': 'Date'})\n",
        "    merged_df = pd.merge(merged_df, df3, on=['State Name', 'County Name', 'Date'], how='inner')\n",
        "    # merged_df = pd.merge(merged_df, df4, on=['State Name', 'County Name', 'Date Local', 'Local Site Name'], how='inner')\n",
        "\n",
        "    merged_df = merged_df.sort_values(by=['State Name', 'County Name', 'Date'], ascending=[True, True, True])\n",
        "\n",
        "    # Save the combined dataset to a CSV file\n",
        "    merged_df.to_csv(output_file, index=False)\n",
        "    print(f\"Merged dataset saved to {output_file}\")"
      ]
    },
    {
      "cell_type": "code",
      "execution_count": null,
      "metadata": {
        "id": "qkBviMtH0gb6"
      },
      "outputs": [],
      "source": [
        "combine_datasets(\"merged_ALL_METEO_2023.csv\", \"merged_ALL_POLLUTANTS_2023.csv\", \"daily_aqi_by_county_2023.csv\", \"all_attributes_2023.csv\")"
      ]
    },
    {
      "cell_type": "code",
      "execution_count": null,
      "metadata": {
        "id": "u3oLge0zxRd5"
      },
      "outputs": [],
      "source": [
        "combine_datasets(\"merged_ALL_METEO_2024.csv\", \"merged_ALL_POLLUTANTS_2024.csv\", \"daily_aqi_by_county_2024.csv\", \"all_attributes_2024.csv\")"
      ]
    },
    {
      "cell_type": "code",
      "execution_count": 80,
      "metadata": {
        "id": "1Sl50JvR0xmy"
      },
      "outputs": [],
      "source": [
        "df = pd.read_csv('all_attributes_2023.csv')\n",
        "\n",
        "unique_states = df['State Name'].unique()\n",
        "\n",
        "df1 = pd.read_csv('all_attributes_2024.csv')\n",
        "\n",
        "unique_states1 = df1['State Name'].unique()\n",
        "\n",
        "# print(f\"Number of unique states: {unique_states}\")\n",
        "\n",
        "# print(f\"Number of unique states: {unique_states1}\")\n",
        "\n",
        "count = 0\n",
        "commonState = []\n",
        "for item in unique_states1:\n",
        "    for i in unique_states:\n",
        "        if (item == i):\n",
        "            count += 1\n",
        "            commonState.append(item)\n",
        "            break\n",
        "\n",
        "# print(count)\n",
        "# print(len(commonState))\n",
        "# print(commonState)"
      ]
    },
    {
      "cell_type": "code",
      "execution_count": 81,
      "metadata": {
        "id": "zd0b01wB0_sk"
      },
      "outputs": [],
      "source": [
        "def filterRows(filename):\n",
        "    commonState = ['Arizona', 'California', 'Connecticut', 'Georgia', 'Idaho', 'Illinois', 'Indiana', 'Louisiana', 'Maryland', 'Massachusetts', 'Michigan', 'Missouri', 'Nevada', 'New Hampshire', 'New Mexico', 'North Carolina', 'North Dakota', 'Ohio', 'Pennsylvania', 'Rhode Island', 'Texas', 'Virginia', 'Washington', 'Wyoming']\n",
        "\n",
        "    match = re.search(r'_(\\d{4})', filename)\n",
        "    year = match.group(1)\n",
        "\n",
        "    df = pd.read_csv(filename)\n",
        "\n",
        "    # Filter rows where 'State Name' is in the commonState list\n",
        "    filtered_df = df[df['State Name'].isin(commonState)]\n",
        "\n",
        "    # Optional: Save to a new CSV file\n",
        "    output_filename = f'24StateAQI_{year}.csv'\n",
        "    filtered_df.to_csv(output_filename, index=False)\n",
        "\n",
        "    # # Display the first few rows to verify\n",
        "    # print(filtered_df.head())"
      ]
    },
    {
      "cell_type": "code",
      "execution_count": 82,
      "metadata": {
        "id": "Hb353TR61Dh4"
      },
      "outputs": [],
      "source": [
        "filterRows(\"all_attributes_2023.csv\")\n",
        "filterRows(\"all_attributes_2024.csv\")"
      ]
    },
    {
      "cell_type": "markdown",
      "metadata": {
        "id": "s5rIgXTm1s1B"
      },
      "source": [
        "# Exploratory data analysis"
      ]
    },
    {
      "cell_type": "code",
      "execution_count": 56,
      "metadata": {
        "colab": {
          "base_uri": "https://localhost:8080/",
          "height": 0
        },
        "id": "_G5XBc281uzB",
        "outputId": "ae80f4a2-fa41-45f9-fb81-6bdd27e0f62f"
      },
      "outputs": [
        {
          "name": "stdout",
          "output_type": "stream",
          "text": [
            "Analysis of 2023 dataset\n",
            "Mean:\n",
            "AQI: 69.77\n",
            "TEMP: 63.4\n",
            "DP: 60.25\n",
            "Median:\n",
            "AQI: 59.0\n",
            "TEMP: 63.62\n",
            "DP: 63.33\n",
            "Mode:\n",
            "AQI: 52 | Category: Moderate | County: Los Angeles | State: California\n"
          ]
        }
      ],
      "source": [
        "df = pd.read_csv('24StateAQI_2023.csv')\n",
        "key_columns = ['AQI', 'Arithmetic Mean_TEMP', 'Arithmetic Mean_RH_DP']\n",
        "df_key = df[key_columns]\n",
        "\n",
        "# summary stats\n",
        "mean = df_key.mean().round(2)\n",
        "median = df_key.median().round(2)\n",
        "mode = df[['AQI', 'Category', 'County Name', 'State Name']].mode().iloc[0]\n",
        "\n",
        "print(\"Analysis of 2023 dataset\")\n",
        "print(\"Mean:\")\n",
        "for col in key_columns:\n",
        "    print(f\"{col.split('_')[-1]}: {mean[col]}\")\n",
        "\n",
        "print(\"Median:\")\n",
        "for col in key_columns:\n",
        "    print(f\"{col.split('_')[-1]}: {median[col]}\")\n",
        "\n",
        "print(\"Mode:\")\n",
        "print(f\"AQI: {mode['AQI']} | Category: {mode['Category']} | County: {mode['County Name']} | State: {mode['State Name']}\")"
      ]
    },
    {
      "cell_type": "markdown",
      "metadata": {
        "id": "bUDPdxp72s7n"
      },
      "source": [
        "Findings: AQI mean 69.77 (Moderate condition), median 59 and mode 52, shows the occasional pollutions, where temperature and pollutants show moderate variation. Overall, the data is reliable for further analysis.\n",
        "\n",
        "Hypothesis: Places that are hot and dry have higher risks of being polluted due to higher AQI.\n",
        "\n",
        "Visulization description: The heatmap shows AQI is positively correlated with temperature (r = 0.41) and negatively correlated with humidity (r = -0.14), confirming that hot, dry conditions worsen air quality.\n",
        "\n",
        "EDA: Loaded clean data, summarized key stats, analyzed correlations and outliers, explored temporal trends, and identified high-risk hot, dry regions. This is one factor that we can consider for our hypothesis, where it could be the case of counties that are hot and dry is higher risk of being polluted."
      ]
    },
    {
      "cell_type": "code",
      "execution_count": 57,
      "metadata": {
        "colab": {
          "base_uri": "https://localhost:8080/",
          "height": 357
        },
        "id": "Z2w1MBAM11GJ",
        "outputId": "1a494397-9b91-4c5c-b25a-755d9e1b002f"
      },
      "outputs": [
        {
          "data": {
            "image/png": "[encoded data removed]",
            "text/plain": [
              "<Figure size 800x350 with 2 Axes>"
            ]
          },
          "metadata": {},
          "output_type": "display_data"
        }
      ],
      "source": [
        "df = pd.read_csv('24StateAQI_2023.csv')\n",
        "df['Date'] = pd.to_datetime(df['Date'])\n",
        "\n",
        "corr_columns = [\n",
        "    'AQI',\n",
        "    'Arithmetic Mean_TEMP',\n",
        "    'Arithmetic Mean_RH_DP',\n",
        "]\n",
        "corr_data = df[corr_columns].dropna()\n",
        "corr_matrix = corr_data.corr()\n",
        "\n",
        "plt.figure(figsize=(8,3.5))\n",
        "sns.heatmap(corr_matrix, annot=True, fmt=\".2f\", cmap='coolwarm', square=True)\n",
        "plt.title('Correlation Between AQI and Environmental Factors 2023')\n",
        "plt.tight_layout()\n",
        "plt.show()"
      ]
    },
    {
      "cell_type": "markdown",
      "metadata": {
        "id": "bAxY8pZx3V8G"
      },
      "source": [
        "Higher temperatures and lower humidity levels are strongly associated with increased AQI. This could be an interesting aspect to consider along with the hypothesis because this shows that places that are hot and dry have higher risks of being polluted."
      ]
    },
    {
      "cell_type": "markdown",
      "metadata": {
        "id": "acqbJ7jDOEnR"
      },
      "source": [
        "# ML Analysis\n",
        "Here we are using a multi-feature linear regression model to predict 2024 AQI using the 2023 figures. To evaluate performance, we will run a baseline where our 2023 AQI is our 2024 AQI. The analysis will be done by state.\n",
        "- The below part for ML analysis is from ml.ipynb and random_forest_analysis.py"
      ]
    },
    {
      "cell_type": "code",
      "execution_count": 45,
      "metadata": {
        "id": "kAuDhTHuO2Oh"
      },
      "outputs": [],
      "source": [
        "df_2023 = pd.read_csv(\"/content/24StateAQI_2023.csv\")\n",
        "df_2024 = pd.read_csv(\"/content/24StateAQI_2024.csv\")"
      ]
    },
    {
      "cell_type": "code",
      "execution_count": 23,
      "metadata": {
        "id": "SU_6Z7XKPQXo"
      },
      "outputs": [],
      "source": [
        "df_2023_bystate = df_2023.groupby(\"State Name\", as_index=False)[\"AQI\"].mean().rename(columns={\"AQI\": \"AQI_2023\"})\n",
        "df_2024_bystate = df_2024.groupby(\"State Name\", as_index=False)[\"AQI\"].mean().rename(columns={\"AQI\": \"AQI_2024\"})\n",
        "# aggregate by state name, get average aqi per state, we also rename some columns to avoid duplicate column names."
      ]
    },
    {
      "cell_type": "code",
      "execution_count": 48,
      "metadata": {
        "id": "K3G6RQSnPTEr"
      },
      "outputs": [],
      "source": [
        "df = pd.merge(df_2023_bystate, df_2024_bystate, on=\"State Name\")\n",
        "\n",
        "X = df[['AQI_2023']].values\n",
        "y = df['AQI_2024'].values"
      ]
    },
    {
      "cell_type": "code",
      "execution_count": 49,
      "metadata": {
        "colab": {
          "base_uri": "https://localhost:8080/",
          "height": 0
        },
        "id": "n_Z0TZ7HPU02",
        "outputId": "e4a9b82b-6a63-4726-8bcc-05b932061d66"
      },
      "outputs": [
        {
          "name": "stdout",
          "output_type": "stream",
          "text": [
            "Baseline:\n",
            "Mean Squared Error: 66.29198501264854\n",
            "R2 Score: 0.18764956246245157\n",
            "RMSE: 8.141989008384163 AQI units\n"
          ]
        }
      ],
      "source": [
        "y_baseline = df['AQI_2023'].values\n",
        "baseline_mse = mean_squared_error(y, y_baseline)\n",
        "baseline_r2 = r2_score(y, y_baseline)\n",
        "print(\"Baseline:\")\n",
        "print(\"Mean Squared Error:\", baseline_mse)\n",
        "print(\"R2 Score:\", baseline_r2)\n",
        "print(f\"RMSE: {math.sqrt(baseline_mse)} AQI units\")"
      ]
    },
    {
      "cell_type": "code",
      "execution_count": 50,
      "metadata": {
        "id": "7BkgPRZLPXwH"
      },
      "outputs": [],
      "source": [
        "model = LinearRegression()\n",
        "model.fit(X,y)\n",
        "pred = model.predict(X)\n",
        "#simple linear regression"
      ]
    },
    {
      "cell_type": "code",
      "execution_count": 51,
      "metadata": {
        "colab": {
          "base_uri": "https://localhost:8080/",
          "height": 0
        },
        "id": "4bLquSFsPZxd",
        "outputId": "153f2b30-6fc9-4096-f913-348c27d55f9c"
      },
      "outputs": [
        {
          "name": "stdout",
          "output_type": "stream",
          "text": [
            "Linear Regression Model:\n",
            "Mean Squared Error: 30.24885623589958\n",
            "R2 Score: 0.629326658516034\n",
            "RMSE: 5.499896020462531 AQI units\n"
          ]
        }
      ],
      "source": [
        "lr_mse = mean_squared_error(y, pred)\n",
        "lr_r2 = r2_score(y, pred)\n",
        "\n",
        "print(\"Linear Regression Model:\")\n",
        "print(\"Mean Squared Error:\", lr_mse)\n",
        "print(\"R2 Score:\", lr_r2)\n",
        "print(f\"RMSE: {math.sqrt(lr_mse)} AQI units\")"
      ]
    },
    {
      "cell_type": "markdown",
      "metadata": {
        "id": "x1EXSSlJ1ZmL"
      },
      "source": [
        "Although this is just a starting point, we can see that we can more accurately predict AQI through machinelearning as opposed to relying solely on historical data. Going forward, we will implement a more complex model that predicts AQI using all of the features from the dataset and can draw more complex conclusions about AQI and the factors that go into it."
      ]
    },
    {
      "cell_type": "code",
      "execution_count": 83,
      "metadata": {
        "colab": {
          "base_uri": "https://localhost:8080/",
          "height": 125
        },
        "id": "4lS6WEn-Xy4P",
        "outputId": "89bd651a-2ad6-4985-f547-337c8f1c8b86"
      },
      "outputs": [
        {
          "data": {
            "application/vnd.google.colaboratory.intrinsic+json": {
              "summary": "{\n  \"name\": \"results_df\",\n  \"rows\": 2,\n  \"fields\": [\n    {\n      \"column\": \"Model\",\n      \"properties\": {\n        \"dtype\": \"string\",\n        \"num_unique_values\": 2,\n        \"samples\": [\n          \"Random Forest\",\n          \"Linear Regression\"\n        ],\n        \"semantic_type\": \"\",\n        \"description\": \"\"\n      }\n    },\n    {\n      \"column\": \"MAE\",\n      \"properties\": {\n        \"dtype\": \"number\",\n        \"std\": 1.5544002490684634,\n        \"min\": 1.4783326991991699,\n        \"max\": 3.676586612787908,\n        \"num_unique_values\": 2,\n        \"samples\": [\n          1.4783326991991699,\n          3.676586612787908\n        ],\n        \"semantic_type\": \"\",\n        \"description\": \"\"\n      }\n    },\n    {\n      \"column\": \"R2 Score\",\n      \"properties\": {\n        \"dtype\": \"number\",\n        \"std\": 0.2218078259833414,\n        \"min\": 0.629326658516034,\n        \"max\": 0.9430102942621668,\n        \"num_unique_values\": 2,\n        \"samples\": [\n          0.9430102942621668,\n          0.629326658516034\n        ],\n        \"semantic_type\": \"\",\n        \"description\": \"\"\n      }\n    },\n    {\n      \"column\": \"RMSE\",\n      \"properties\": {\n        \"dtype\": \"number\",\n        \"std\": 2.3641114987247294,\n        \"min\": 2.1565374760038347,\n        \"max\": 5.499896020462531,\n        \"num_unique_values\": 2,\n        \"samples\": [\n          2.1565374760038347,\n          5.499896020462531\n        ],\n        \"semantic_type\": \"\",\n        \"description\": \"\"\n      }\n    }\n  ]\n}",
              "type": "dataframe",
              "variable_name": "results_df"
            },
            "text/html": [
              "\n",
              "  <div id=\"df-3acd6c66-04aa-47da-a16b-3bbb8728ae77\" class=\"colab-df-container\">\n",
              "    <div>\n",
              "<style scoped>\n",
              "    .dataframe tbody tr th:only-of-type {\n",
              "        vertical-align: middle;\n",
              "    }\n",
              "\n",
              "    .dataframe tbody tr th {\n",
              "        vertical-align: top;\n",
              "    }\n",
              "\n",
              "    .dataframe thead th {\n",
              "        text-align: right;\n",
              "    }\n",
              "</style>\n",
              "<table border=\"1\" class=\"dataframe\">\n",
              "  <thead>\n",
              "    <tr style=\"text-align: right;\">\n",
              "      <th></th>\n",
              "      <th>Model</th>\n",
              "      <th>MAE</th>\n",
              "      <th>R2 Score</th>\n",
              "      <th>RMSE</th>\n",
              "    </tr>\n",
              "  </thead>\n",
              "  <tbody>\n",
              "    <tr>\n",
              "      <th>0</th>\n",
              "      <td>Linear Regression</td>\n",
              "      <td>3.676587</td>\n",
              "      <td>0.629327</td>\n",
              "      <td>5.499896</td>\n",
              "    </tr>\n",
              "    <tr>\n",
              "      <th>1</th>\n",
              "      <td>Random Forest</td>\n",
              "      <td>1.478333</td>\n",
              "      <td>0.943010</td>\n",
              "      <td>2.156537</td>\n",
              "    </tr>\n",
              "  </tbody>\n",
              "</table>\n",
              "</div>\n",
              "    <div class=\"colab-df-buttons\">\n",
              "\n",
              "  <div class=\"colab-df-container\">\n",
              "    <button class=\"colab-df-convert\" onclick=\"convertToInteractive('df-3acd6c66-04aa-47da-a16b-3bbb8728ae77')\"\n",
              "            title=\"Convert this dataframe to an interactive table.\"\n",
              "            style=\"display:none;\">\n",
              "\n",
              "  <svg xmlns=\"http://www.w3.org/2000/svg\" height=\"24px\" viewBox=\"0 -960 960 960\">\n",
              "    <path d=\"M120-120v-720h720v720H120Zm60-500h600v-160H180v160Zm220 220h160v-160H400v160Zm0 220h160v-160H400v160ZM180-400h160v-160H180v160Zm440 0h160v-160H620v160ZM180-180h160v-160H180v160Zm440 0h160v-160H620v160Z\"/>\n",
              "  </svg>\n",
              "    </button>\n",
              "\n",
              "  <style>\n",
              "    .colab-df-container {\n",
              "      display:flex;\n",
              "      gap: 12px;\n",
              "    }\n",
              "\n",
              "    .colab-df-convert {\n",
              "      background-color: #E8F0FE;\n",
              "      border: none;\n",
              "      border-radius: 50%;\n",
              "      cursor: pointer;\n",
              "      display: none;\n",
              "      fill: #1967D2;\n",
              "      height: 32px;\n",
              "      padding: 0 0 0 0;\n",
              "      width: 32px;\n",
              "    }\n",
              "\n",
              "    .colab-df-convert:hover {\n",
              "      background-color: #E2EBFA;\n",
              "      box-shadow: 0px 1px 2px rgba(60, 64, 67, 0.3), 0px 1px 3px 1px rgba(60, 64, 67, 0.15);\n",
              "      fill: #174EA6;\n",
              "    }\n",
              "\n",
              "    .colab-df-buttons div {\n",
              "      margin-bottom: 4px;\n",
              "    }\n",
              "\n",
              "    [theme=dark] .colab-df-convert {\n",
              "      background-color: #3B4455;\n",
              "      fill: #D2E3FC;\n",
              "    }\n",
              "\n",
              "    [theme=dark] .colab-df-convert:hover {\n",
              "      background-color: #434B5C;\n",
              "      box-shadow: 0px 1px 3px 1px rgba(0, 0, 0, 0.15);\n",
              "      filter: drop-shadow(0px 1px 2px rgba(0, 0, 0, 0.3));\n",
              "      fill: #FFFFFF;\n",
              "    }\n",
              "  </style>\n",
              "\n",
              "    <script>\n",
              "      const buttonEl =\n",
              "        document.querySelector('#df-3acd6c66-04aa-47da-a16b-3bbb8728ae77 button.colab-df-convert');\n",
              "      buttonEl.style.display =\n",
              "        google.colab.kernel.accessAllowed ? 'block' : 'none';\n",
              "\n",
              "      async function convertToInteractive(key) {\n",
              "        const element = document.querySelector('#df-3acd6c66-04aa-47da-a16b-3bbb8728ae77');\n",
              "        const dataTable =\n",
              "          await google.colab.kernel.invokeFunction('convertToInteractive',\n",
              "                                                    [key], {});\n",
              "        if (!dataTable) return;\n",
              "\n",
              "        const docLinkHtml = 'Like what you see? Visit the ' +\n",
              "          '<a target=\"_blank\" href=https://colab.research.google.com/notebooks/data_table.ipynb>data table notebook</a>'\n",
              "          + ' to learn more about interactive tables.';\n",
              "        element.innerHTML = '';\n",
              "        dataTable['output_type'] = 'display_data';\n",
              "        await google.colab.output.renderOutput(dataTable, element);\n",
              "        const docLink = document.createElement('div');\n",
              "        docLink.innerHTML = docLinkHtml;\n",
              "        element.appendChild(docLink);\n",
              "      }\n",
              "    </script>\n",
              "  </div>\n",
              "\n",
              "\n",
              "<div id=\"df-06060c12-aaed-486a-a4de-452cdf897a51\">\n",
              "  <button class=\"colab-df-quickchart\" onclick=\"quickchart('df-06060c12-aaed-486a-a4de-452cdf897a51')\"\n",
              "            title=\"Suggest charts\"\n",
              "            style=\"display:none;\">\n",
              "\n",
              "<svg xmlns=\"http://www.w3.org/2000/svg\" height=\"24px\"viewBox=\"0 0 24 24\"\n",
              "     width=\"24px\">\n",
              "    <g>\n",
              "        <path d=\"M19 3H5c-1.1 0-2 .9-2 2v14c0 1.1.9 2 2 2h14c1.1 0 2-.9 2-2V5c0-1.1-.9-2-2-2zM9 17H7v-7h2v7zm4 0h-2V7h2v10zm4 0h-2v-4h2v4z\"/>\n",
              "    </g>\n",
              "</svg>\n",
              "  </button>\n",
              "\n",
              "<style>\n",
              "  .colab-df-quickchart {\n",
              "      --bg-color: #E8F0FE;\n",
              "      --fill-color: #1967D2;\n",
              "      --hover-bg-color: #E2EBFA;\n",
              "      --hover-fill-color: #174EA6;\n",
              "      --disabled-fill-color: #AAA;\n",
              "      --disabled-bg-color: #DDD;\n",
              "  }\n",
              "\n",
              "  [theme=dark] .colab-df-quickchart {\n",
              "      --bg-color: #3B4455;\n",
              "      --fill-color: #D2E3FC;\n",
              "      --hover-bg-color: #434B5C;\n",
              "      --hover-fill-color: #FFFFFF;\n",
              "      --disabled-bg-color: #3B4455;\n",
              "      --disabled-fill-color: #666;\n",
              "  }\n",
              "\n",
              "  .colab-df-quickchart {\n",
              "    background-color: var(--bg-color);\n",
              "    border: none;\n",
              "    border-radius: 50%;\n",
              "    cursor: pointer;\n",
              "    display: none;\n",
              "    fill: var(--fill-color);\n",
              "    height: 32px;\n",
              "    padding: 0;\n",
              "    width: 32px;\n",
              "  }\n",
              "\n",
              "  .colab-df-quickchart:hover {\n",
              "    background-color: var(--hover-bg-color);\n",
              "    box-shadow: 0 1px 2px rgba(60, 64, 67, 0.3), 0 1px 3px 1px rgba(60, 64, 67, 0.15);\n",
              "    fill: var(--button-hover-fill-color);\n",
              "  }\n",
              "\n",
              "  .colab-df-quickchart-complete:disabled,\n",
              "  .colab-df-quickchart-complete:disabled:hover {\n",
              "    background-color: var(--disabled-bg-color);\n",
              "    fill: var(--disabled-fill-color);\n",
              "    box-shadow: none;\n",
              "  }\n",
              "\n",
              "  .colab-df-spinner {\n",
              "    border: 2px solid var(--fill-color);\n",
              "    border-color: transparent;\n",
              "    border-bottom-color: var(--fill-color);\n",
              "    animation:\n",
              "      spin 1s steps(1) infinite;\n",
              "  }\n",
              "\n",
              "  @keyframes spin {\n",
              "    0% {\n",
              "      border-color: transparent;\n",
              "      border-bottom-color: var(--fill-color);\n",
              "      border-left-color: var(--fill-color);\n",
              "    }\n",
              "    20% {\n",
              "      border-color: transparent;\n",
              "      border-left-color: var(--fill-color);\n",
              "      border-top-color: var(--fill-color);\n",
              "    }\n",
              "    30% {\n",
              "      border-color: transparent;\n",
              "      border-left-color: var(--fill-color);\n",
              "      border-top-color: var(--fill-color);\n",
              "      border-right-color: var(--fill-color);\n",
              "    }\n",
              "    40% {\n",
              "      border-color: transparent;\n",
              "      border-right-color: var(--fill-color);\n",
              "      border-top-color: var(--fill-color);\n",
              "    }\n",
              "    60% {\n",
              "      border-color: transparent;\n",
              "      border-right-color: var(--fill-color);\n",
              "    }\n",
              "    80% {\n",
              "      border-color: transparent;\n",
              "      border-right-color: var(--fill-color);\n",
              "      border-bottom-color: var(--fill-color);\n",
              "    }\n",
              "    90% {\n",
              "      border-color: transparent;\n",
              "      border-bottom-color: var(--fill-color);\n",
              "    }\n",
              "  }\n",
              "</style>\n",
              "\n",
              "  <script>\n",
              "    async function quickchart(key) {\n",
              "      const quickchartButtonEl =\n",
              "        document.querySelector('#' + key + ' button');\n",
              "      quickchartButtonEl.disabled = true;  // To prevent multiple clicks.\n",
              "      quickchartButtonEl.classList.add('colab-df-spinner');\n",
              "      try {\n",
              "        const charts = await google.colab.kernel.invokeFunction(\n",
              "            'suggestCharts', [key], {});\n",
              "      } catch (error) {\n",
              "        console.error('Error during call to suggestCharts:', error);\n",
              "      }\n",
              "      quickchartButtonEl.classList.remove('colab-df-spinner');\n",
              "      quickchartButtonEl.classList.add('colab-df-quickchart-complete');\n",
              "    }\n",
              "    (() => {\n",
              "      let quickchartButtonEl =\n",
              "        document.querySelector('#df-06060c12-aaed-486a-a4de-452cdf897a51 button');\n",
              "      quickchartButtonEl.style.display =\n",
              "        google.colab.kernel.accessAllowed ? 'block' : 'none';\n",
              "    })();\n",
              "  </script>\n",
              "</div>\n",
              "\n",
              "  <div id=\"id_a01ebc53-be12-42c2-a797-4b5c74521751\">\n",
              "    <style>\n",
              "      .colab-df-generate {\n",
              "        background-color: #E8F0FE;\n",
              "        border: none;\n",
              "        border-radius: 50%;\n",
              "        cursor: pointer;\n",
              "        display: none;\n",
              "        fill: #1967D2;\n",
              "        height: 32px;\n",
              "        padding: 0 0 0 0;\n",
              "        width: 32px;\n",
              "      }\n",
              "\n",
              "      .colab-df-generate:hover {\n",
              "        background-color: #E2EBFA;\n",
              "        box-shadow: 0px 1px 2px rgba(60, 64, 67, 0.3), 0px 1px 3px 1px rgba(60, 64, 67, 0.15);\n",
              "        fill: #174EA6;\n",
              "      }\n",
              "\n",
              "      [theme=dark] .colab-df-generate {\n",
              "        background-color: #3B4455;\n",
              "        fill: #D2E3FC;\n",
              "      }\n",
              "\n",
              "      [theme=dark] .colab-df-generate:hover {\n",
              "        background-color: #434B5C;\n",
              "        box-shadow: 0px 1px 3px 1px rgba(0, 0, 0, 0.15);\n",
              "        filter: drop-shadow(0px 1px 2px rgba(0, 0, 0, 0.3));\n",
              "        fill: #FFFFFF;\n",
              "      }\n",
              "    </style>\n",
              "    <button class=\"colab-df-generate\" onclick=\"generateWithVariable('results_df')\"\n",
              "            title=\"Generate code using this dataframe.\"\n",
              "            style=\"display:none;\">\n",
              "\n",
              "  <svg xmlns=\"http://www.w3.org/2000/svg\" height=\"24px\"viewBox=\"0 0 24 24\"\n",
              "       width=\"24px\">\n",
              "    <path d=\"M7,19H8.4L18.45,9,17,7.55,7,17.6ZM5,21V16.75L18.45,3.32a2,2,0,0,1,2.83,0l1.4,1.43a1.91,1.91,0,0,1,.58,1.4,1.91,1.91,0,0,1-.58,1.4L9.25,21ZM18.45,9,17,7.55Zm-12,3A5.31,5.31,0,0,0,4.9,8.1,5.31,5.31,0,0,0,1,6.5,5.31,5.31,0,0,0,4.9,4.9,5.31,5.31,0,0,0,6.5,1,5.31,5.31,0,0,0,8.1,4.9,5.31,5.31,0,0,0,12,6.5,5.46,5.46,0,0,0,6.5,12Z\"/>\n",
              "  </svg>\n",
              "    </button>\n",
              "    <script>\n",
              "      (() => {\n",
              "      const buttonEl =\n",
              "        document.querySelector('#id_a01ebc53-be12-42c2-a797-4b5c74521751 button.colab-df-generate');\n",
              "      buttonEl.style.display =\n",
              "        google.colab.kernel.accessAllowed ? 'block' : 'none';\n",
              "\n",
              "      buttonEl.onclick = () => {\n",
              "        google.colab.notebook.generateWithVariable('results_df');\n",
              "      }\n",
              "      })();\n",
              "    </script>\n",
              "  </div>\n",
              "\n",
              "    </div>\n",
              "  </div>\n"
            ],
            "text/plain": [
              "               Model       MAE  R2 Score      RMSE\n",
              "0  Linear Regression  3.676587  0.629327  5.499896\n",
              "1      Random Forest  1.478333  0.943010  2.156537"
            ]
          },
          "execution_count": 83,
          "metadata": {},
          "output_type": "execute_result"
        }
      ],
      "source": [
        "results_df"
      ]
    },
    {
      "cell_type": "code",
      "execution_count": 55,
      "metadata": {
        "id": "Ppyh3oP-QWMc"
      },
      "outputs": [],
      "source": [
        "from sklearn.ensemble import RandomForestRegressor\n",
        "from sklearn.metrics import mean_absolute_error, r2_score\n",
        "\n",
        "# Define features and target\n",
        "X = df[['AQI_2023']]\n",
        "y = df['AQI_2024']\n",
        "\n",
        "# Train Linear Regression\n",
        "baseline = LinearRegression()\n",
        "baseline.fit(X, y)\n",
        "y_pred_base = baseline.predict(X)\n",
        "\n",
        "# Train Random Forest\n",
        "rf = RandomForestRegressor(random_state=42)\n",
        "rf.fit(X, y)\n",
        "y_pred_rf = rf.predict(X)\n",
        "\n",
        "# Evaluate both models\n",
        "results = {\n",
        "    \"Model\": [\"Linear Regression\", \"Random Forest\"],\n",
        "    \"MAE\": [mean_absolute_error(y, y_pred_base), mean_absolute_error(y, y_pred_rf)],\n",
        "    \"R2 Score\": [r2_score(y, y_pred_base), r2_score(y, y_pred_rf)],\n",
        "    \"RMSE\": [math.sqrt(mean_squared_error(y, y_pred_base)), math.sqrt(mean_squared_error(y, y_pred_rf))]\n",
        "}\n",
        "results_df = pd.DataFrame(results)"
      ]
    },
    {
      "cell_type": "markdown",
      "metadata": {
        "id": "YKzZoJ8r3HiA"
      },
      "source": [
        "Both models outperform the baseline, with Random Forest achieving the lowest RMSE (2.16 vs. 8.14) and highest R² (0.94 vs. 0.19), indicating much better predictive power. Linear Regression improves over baseline but is less accurate than Random Forest."
      ]
    },
    {
      "cell_type": "markdown",
      "metadata": {
        "id": "4qHasfV33X4G"
      },
      "source": [
        "# Reflection\n",
        "- **Hardest part**: Handling large, detailed datasets without slowdowns.\n",
        "- **Insights**: AQI is strongly predictable from past values; Random Forest outperforms other models.\n",
        "- **Concrete results**: Yes — Random Forest achieved R² = 0.94 and RMSE = 2.16 vs. baseline RMSE = 8.14.\n",
        "- **Biggest problems now**: Lack of clearly labeled rural vs. urban data for deeper comparison.\n",
        "- **On track?** Yes, but more time is needed for deeper data integration and model refinement.\n",
        "- **Worth continuing?** Absolutely — initial results are promising and support the project’s hypothesis.\n"
      ]
    },
    {
      "cell_type": "markdown",
      "metadata": {
        "id": "aoDfA00B3lKM"
      },
      "source": [
        "## Next Steps\n",
        "- Consider updating data to cover both urban and rural areas\n",
        "- Build classification models to predict AQI categories (e.g., Good, Moderate, Unhealthy).\n",
        "\n",
        "- Visualize trends across time and geography to uncover spatial-temporal patterns.\n",
        "\n",
        "- Evaluate model performance using cross-validation and external validation.\n",
        "\n",
        "- Document results for interpretability and reproducibility.\n",
        "\n",
        "Link to the notebook: https://github.com/uic-cs418/group-project-data-minding/blob/main/Progress_Report.ipynb"
      ]
    }
  ],
  "metadata": {
    "colab": {
      "provenance": []
    },
    "kernelspec": {
      "display_name": "base",
      "language": "python",
      "name": "python3"
    },
    "language_info": {
      "codemirror_mode": {
        "name": "ipython",
        "version": 3
      },
      "file_extension": ".py",
      "mimetype": "text/x-python",
      "name": "python",
      "nbconvert_exporter": "python",
      "pygments_lexer": "ipython3",
      "version": "3.12.7"
    }
  },
  "nbformat": 4,
  "nbformat_minor": 0
}
