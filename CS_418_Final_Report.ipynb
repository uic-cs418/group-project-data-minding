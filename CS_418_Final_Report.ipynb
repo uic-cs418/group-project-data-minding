{
  "nbformat": 4,
  "nbformat_minor": 0,
  "metadata": {
    "colab": {
      "provenance": []
    },
    "kernelspec": {
      "name": "python3",
      "display_name": "Python 3"
    },
    "language_info": {
      "name": "python"
    }
  },
  "cells": [
    {
      "cell_type": "markdown",
      "source": [
        "# FINAL REPORT: Breath and Wealth: Predicting County Livability\n",
        "\n",
        "**Team: Data Minding**  - Ayush Panda,  Hayley Nguyen, Jose Garcia Rowlands, Trong Gia Hung Nguyen, Trinh Phan <br>\n",
        "**Github Repo:**  https://github.com/uic-cs418/group-project-data-minding\n"
      ],
      "metadata": {
        "id": "ExftelR8Uk5d"
      }
    },
    {
      "cell_type": "code",
      "execution_count": 1,
      "metadata": {
        "id": "Eu6GFdGGUkfu"
      },
      "outputs": [],
      "source": [
        "import pandas as pd\n",
        "import numpy as np\n",
        "import matplotlib.pyplot as plt\n",
        "import seaborn as sns\n",
        "import os\n",
        "import re\n",
        "import math"
      ]
    }
  ]
}